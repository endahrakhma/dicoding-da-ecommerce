{
 "cells": [
  {
   "cell_type": "markdown",
   "metadata": {
    "id": "H9wADwK78DCz"
   },
   "source": [
    "# Proyek Analisis Data: E-Commerce Public Dataset\n",
    "- **Nama:** Endah Rakhmawati\n",
    "- **Email:** endahen12@gmail.com\n",
    "- **ID Dicoding:** endah_ndahen"
   ]
  },
  {
   "cell_type": "markdown",
   "metadata": {
    "id": "eE0raob58DC0"
   },
   "source": [
    "## Menentukan Pertanyaan Bisnis"
   ]
  },
  {
   "cell_type": "markdown",
   "metadata": {
    "id": "GmQeQ5YF8DC0"
   },
   "source": [
    "- Pertanyaan 1 : Faktor apa yang jadi penentu customer dalam memberikan rating maupun review?\n",
    "- Pertanyaan 2 : Bagaimana customer behaviour pada metode pembayaran yang dilakukan?"
   ]
  },
  {
   "cell_type": "markdown",
   "metadata": {
    "id": "H-z4QGlO8DC1"
   },
   "source": [
    "## Import Semua Packages/Library yang Digunakan"
   ]
  },
  {
   "cell_type": "code",
   "execution_count": 6,
   "metadata": {
    "id": "FVYwaObI8DC1"
   },
   "outputs": [],
   "source": [
    "import pandas as pd\n",
    "import numpy as np\n",
    "import matplotlib.pyplot as plt\n",
    "import seaborn as sns\n",
    "\n",
    "import warnings\n",
    "warnings.filterwarnings(\"ignore\")"
   ]
  },
  {
   "cell_type": "markdown",
   "metadata": {
    "id": "h_Sh51Xy8DC1"
   },
   "source": [
    "## Data Wrangling"
   ]
  },
  {
   "cell_type": "markdown",
   "metadata": {
    "id": "sXU2GBYu8DC1"
   },
   "source": [
    "### Gathering Data"
   ]
  },
  {
   "cell_type": "code",
   "execution_count": 9,
   "metadata": {
    "id": "zjCBk1BI8DC1"
   },
   "outputs": [],
   "source": [
    "# Membuka file csv sebagai dataset analisis bisnis\n",
    "orders = pd.read_csv(\"orders_dataset.csv\")\n",
    "order_items = pd.read_csv(\"order_items_dataset.csv\")\n",
    "payments = pd.read_csv(\"order_payments_dataset.csv\")\n",
    "products = pd.read_csv(\"products_dataset.csv\")\n",
    "categories = pd.read_csv(\"product_category_name_translation.csv\")\n",
    "reviews = pd.read_csv(\"order_reviews_dataset.csv\")"
   ]
  },
  {
   "cell_type": "code",
   "execution_count": 10,
   "metadata": {},
   "outputs": [],
   "source": [
    "dfs = {\n",
    "    \"orders\": orders,\n",
    "    \"order_items\": order_items,\n",
    "    \"payments\": payments,\n",
    "    \"products\": products,\n",
    "    \"categories\": categories,\n",
    "    \"reviews\": reviews\n",
    "}"
   ]
  },
  {
   "cell_type": "code",
   "execution_count": 11,
   "metadata": {},
   "outputs": [
    {
     "name": "stdout",
     "output_type": "stream",
     "text": [
      "\n",
      "ORDERS - dimension: (99441, 8)\n",
      "Column Names:\n",
      "['order_id', 'customer_id', 'order_status', 'order_purchase_timestamp', 'order_approved_at', 'order_delivered_carrier_date', 'order_delivered_customer_date', 'order_estimated_delivery_date']\n",
      "\n",
      "Data Types:\n",
      "order_id                         object\n",
      "customer_id                      object\n",
      "order_status                     object\n",
      "order_purchase_timestamp         object\n",
      "order_approved_at                object\n",
      "order_delivered_carrier_date     object\n",
      "order_delivered_customer_date    object\n",
      "order_estimated_delivery_date    object\n",
      "dtype: object\n",
      "\n",
      "ORDERS - top 5:\n",
      "                           order_id                       customer_id  \\\n",
      "0  e481f51cbdc54678b7cc49136f2d6af7  9ef432eb6251297304e76186b10a928d   \n",
      "1  53cdb2fc8bc7dce0b6741e2150273451  b0830fb4747a6c6d20dea0b8c802d7ef   \n",
      "2  47770eb9100c2d0c44946d9cf07ec65d  41ce2a54c0b03bf3443c3d931a367089   \n",
      "3  949d5b44dbf5de918fe9c16f97b45f8a  f88197465ea7920adcdbec7375364d82   \n",
      "4  ad21c59c0840e6cb83a9ceb5573f8159  8ab97904e6daea8866dbdbc4fb7aad2c   \n",
      "\n",
      "  order_status order_purchase_timestamp    order_approved_at  \\\n",
      "0    delivered      2017-10-02 10:56:33  2017-10-02 11:07:15   \n",
      "1    delivered      2018-07-24 20:41:37  2018-07-26 03:24:27   \n",
      "2    delivered      2018-08-08 08:38:49  2018-08-08 08:55:23   \n",
      "3    delivered      2017-11-18 19:28:06  2017-11-18 19:45:59   \n",
      "4    delivered      2018-02-13 21:18:39  2018-02-13 22:20:29   \n",
      "\n",
      "  order_delivered_carrier_date order_delivered_customer_date  \\\n",
      "0          2017-10-04 19:55:00           2017-10-10 21:25:13   \n",
      "1          2018-07-26 14:31:00           2018-08-07 15:27:45   \n",
      "2          2018-08-08 13:50:00           2018-08-17 18:06:29   \n",
      "3          2017-11-22 13:39:59           2017-12-02 00:28:42   \n",
      "4          2018-02-14 19:46:34           2018-02-16 18:17:02   \n",
      "\n",
      "  order_estimated_delivery_date  \n",
      "0           2017-10-18 00:00:00  \n",
      "1           2018-08-13 00:00:00  \n",
      "2           2018-09-04 00:00:00  \n",
      "3           2017-12-15 00:00:00  \n",
      "4           2018-02-26 00:00:00   \n",
      "\n",
      "\n",
      "ORDER_ITEMS - dimension: (112650, 7)\n",
      "Column Names:\n",
      "['order_id', 'order_item_id', 'product_id', 'seller_id', 'shipping_limit_date', 'price', 'freight_value']\n",
      "\n",
      "Data Types:\n",
      "order_id                object\n",
      "order_item_id            int64\n",
      "product_id              object\n",
      "seller_id               object\n",
      "shipping_limit_date     object\n",
      "price                  float64\n",
      "freight_value          float64\n",
      "dtype: object\n",
      "\n",
      "ORDER_ITEMS - top 5:\n",
      "                           order_id  order_item_id  \\\n",
      "0  00010242fe8c5a6d1ba2dd792cb16214              1   \n",
      "1  00018f77f2f0320c557190d7a144bdd3              1   \n",
      "2  000229ec398224ef6ca0657da4fc703e              1   \n",
      "3  00024acbcdf0a6daa1e931b038114c75              1   \n",
      "4  00042b26cf59d7ce69dfabb4e55b4fd9              1   \n",
      "\n",
      "                         product_id                         seller_id  \\\n",
      "0  4244733e06e7ecb4970a6e2683c13e61  48436dade18ac8b2bce089ec2a041202   \n",
      "1  e5f2d52b802189ee658865ca93d83a8f  dd7ddc04e1b6c2c614352b383efe2d36   \n",
      "2  c777355d18b72b67abbeef9df44fd0fd  5b51032eddd242adc84c38acab88f23d   \n",
      "3  7634da152a4610f1595efa32f14722fc  9d7a1d34a5052409006425275ba1c2b4   \n",
      "4  ac6c3623068f30de03045865e4e10089  df560393f3a51e74553ab94004ba5c87   \n",
      "\n",
      "   shipping_limit_date   price  freight_value  \n",
      "0  2017-09-19 09:45:35   58.90          13.29  \n",
      "1  2017-05-03 11:05:13  239.90          19.93  \n",
      "2  2018-01-18 14:48:30  199.00          17.87  \n",
      "3  2018-08-15 10:10:18   12.99          12.79  \n",
      "4  2017-02-13 13:57:51  199.90          18.14   \n",
      "\n",
      "\n",
      "PAYMENTS - dimension: (103886, 5)\n",
      "Column Names:\n",
      "['order_id', 'payment_sequential', 'payment_type', 'payment_installments', 'payment_value']\n",
      "\n",
      "Data Types:\n",
      "order_id                 object\n",
      "payment_sequential        int64\n",
      "payment_type             object\n",
      "payment_installments      int64\n",
      "payment_value           float64\n",
      "dtype: object\n",
      "\n",
      "PAYMENTS - top 5:\n",
      "                           order_id  payment_sequential payment_type  \\\n",
      "0  b81ef226f3fe1789b1e8b2acac839d17                   1  credit_card   \n",
      "1  a9810da82917af2d9aefd1278f1dcfa0                   1  credit_card   \n",
      "2  25e8ea4e93396b6fa0d3dd708e76c1bd                   1  credit_card   \n",
      "3  ba78997921bbcdc1373bb41e913ab953                   1  credit_card   \n",
      "4  42fdf880ba16b47b59251dd489d4441a                   1  credit_card   \n",
      "\n",
      "   payment_installments  payment_value  \n",
      "0                     8          99.33  \n",
      "1                     1          24.39  \n",
      "2                     1          65.71  \n",
      "3                     8         107.78  \n",
      "4                     2         128.45   \n",
      "\n",
      "\n",
      "PRODUCTS - dimension: (32951, 9)\n",
      "Column Names:\n",
      "['product_id', 'product_category_name', 'product_name_lenght', 'product_description_lenght', 'product_photos_qty', 'product_weight_g', 'product_length_cm', 'product_height_cm', 'product_width_cm']\n",
      "\n",
      "Data Types:\n",
      "product_id                     object\n",
      "product_category_name          object\n",
      "product_name_lenght           float64\n",
      "product_description_lenght    float64\n",
      "product_photos_qty            float64\n",
      "product_weight_g              float64\n",
      "product_length_cm             float64\n",
      "product_height_cm             float64\n",
      "product_width_cm              float64\n",
      "dtype: object\n",
      "\n",
      "PRODUCTS - top 5:\n",
      "                         product_id  product_category_name  \\\n",
      "0  1e9e8ef04dbcff4541ed26657ea517e5             perfumaria   \n",
      "1  3aa071139cb16b67ca9e5dea641aaa2f                  artes   \n",
      "2  96bd76ec8810374ed1b65e291975717f          esporte_lazer   \n",
      "3  cef67bcfe19066a932b7673e239eb23d                  bebes   \n",
      "4  9dc1a7de274444849c219cff195d0b71  utilidades_domesticas   \n",
      "\n",
      "   product_name_lenght  product_description_lenght  product_photos_qty  \\\n",
      "0                 40.0                       287.0                 1.0   \n",
      "1                 44.0                       276.0                 1.0   \n",
      "2                 46.0                       250.0                 1.0   \n",
      "3                 27.0                       261.0                 1.0   \n",
      "4                 37.0                       402.0                 4.0   \n",
      "\n",
      "   product_weight_g  product_length_cm  product_height_cm  product_width_cm  \n",
      "0             225.0               16.0               10.0              14.0  \n",
      "1            1000.0               30.0               18.0              20.0  \n",
      "2             154.0               18.0                9.0              15.0  \n",
      "3             371.0               26.0                4.0              26.0  \n",
      "4             625.0               20.0               17.0              13.0   \n",
      "\n",
      "\n",
      "CATEGORIES - dimension: (71, 2)\n",
      "Column Names:\n",
      "['product_category_name', 'product_category_name_english']\n",
      "\n",
      "Data Types:\n",
      "product_category_name            object\n",
      "product_category_name_english    object\n",
      "dtype: object\n",
      "\n",
      "CATEGORIES - top 5:\n",
      "    product_category_name product_category_name_english\n",
      "0            beleza_saude                 health_beauty\n",
      "1  informatica_acessorios         computers_accessories\n",
      "2              automotivo                          auto\n",
      "3         cama_mesa_banho                bed_bath_table\n",
      "4        moveis_decoracao               furniture_decor \n",
      "\n",
      "\n",
      "REVIEWS - dimension: (99224, 7)\n",
      "Column Names:\n",
      "['review_id', 'order_id', 'review_score', 'review_comment_title', 'review_comment_message', 'review_creation_date', 'review_answer_timestamp']\n",
      "\n",
      "Data Types:\n",
      "review_id                  object\n",
      "order_id                   object\n",
      "review_score                int64\n",
      "review_comment_title       object\n",
      "review_comment_message     object\n",
      "review_creation_date       object\n",
      "review_answer_timestamp    object\n",
      "dtype: object\n",
      "\n",
      "REVIEWS - top 5:\n",
      "                          review_id                          order_id  \\\n",
      "0  7bc2406110b926393aa56f80a40eba40  73fc7af87114b39712e6da79b0a377eb   \n",
      "1  80e641a11e56f04c1ad469d5645fdfde  a548910a1c6147796b98fdf73dbeba33   \n",
      "2  228ce5500dc1d8e020d8d1322874b6f0  f9e4b658b201a9f2ecdecbb34bed034b   \n",
      "3  e64fb393e7b32834bb789ff8bb30750e  658677c97b385a9be170737859d3511b   \n",
      "4  f7c4243c7fe1938f181bec41a392bdeb  8e6bfb81e283fa7e4f11123a3fb894f1   \n",
      "\n",
      "   review_score review_comment_title  \\\n",
      "0             4                  NaN   \n",
      "1             5                  NaN   \n",
      "2             5                  NaN   \n",
      "3             5                  NaN   \n",
      "4             5                  NaN   \n",
      "\n",
      "                              review_comment_message review_creation_date  \\\n",
      "0                                                NaN  2018-01-18 00:00:00   \n",
      "1                                                NaN  2018-03-10 00:00:00   \n",
      "2                                                NaN  2018-02-17 00:00:00   \n",
      "3              Recebi bem antes do prazo estipulado.  2017-04-21 00:00:00   \n",
      "4  Parabéns lojas lannister adorei comprar pela I...  2018-03-01 00:00:00   \n",
      "\n",
      "  review_answer_timestamp  \n",
      "0     2018-01-18 21:46:59  \n",
      "1     2018-03-11 03:05:13  \n",
      "2     2018-02-18 14:36:24  \n",
      "3     2017-04-21 22:02:06  \n",
      "4     2018-03-02 10:26:53   \n",
      "\n"
     ]
    }
   ],
   "source": [
    "# Menampilkan detail masing-masing dataset yang dikumpulkan\n",
    "for name, df in dfs.items():\n",
    "    print(f\"\\n{name.upper()} - dimension:\", df.shape) # dimensi dataset\n",
    "    print(f\"Column Names:\\n{df.columns.tolist()}\\n\") # nama-nama kolom\n",
    "    print(f\"Data Types:\\n{df.dtypes}\") # tipe data tiap kolom\n",
    "    print(f\"\\n{name.upper()} - top 5:\") # 5 sample baris\n",
    "    print(df.head(),'\\n')"
   ]
  },
  {
   "cell_type": "markdown",
   "metadata": {
    "id": "MMi6xGaDkbCi"
   },
   "source": [
    "**Insight:**\n",
    "- Sesuai pertanyaan bisnis maka kita butuhkan 6 dataset antara lain : orders, order_items, payments, products, categories, dan reviews"
   ]
  },
  {
   "cell_type": "markdown",
   "metadata": {
    "id": "FHSiqaZp8DC1"
   },
   "source": [
    "### Assessing Data"
   ]
  },
  {
   "cell_type": "markdown",
   "metadata": {},
   "source": [
    "Missing Values"
   ]
  },
  {
   "cell_type": "code",
   "execution_count": 15,
   "metadata": {
    "id": "ax-3tEjc9Cj1"
   },
   "outputs": [
    {
     "name": "stdout",
     "output_type": "stream",
     "text": [
      "\n",
      "ORDERS - NULL values:\n",
      "order_id                            0\n",
      "customer_id                         0\n",
      "order_status                        0\n",
      "order_purchase_timestamp            0\n",
      "order_approved_at                 160\n",
      "order_delivered_carrier_date     1783\n",
      "order_delivered_customer_date    2965\n",
      "order_estimated_delivery_date       0\n",
      "dtype: int64 \n",
      "\n",
      "\n",
      "ORDER_ITEMS - NULL values:\n",
      "order_id               0\n",
      "order_item_id          0\n",
      "product_id             0\n",
      "seller_id              0\n",
      "shipping_limit_date    0\n",
      "price                  0\n",
      "freight_value          0\n",
      "dtype: int64 \n",
      "\n",
      "\n",
      "PAYMENTS - NULL values:\n",
      "order_id                0\n",
      "payment_sequential      0\n",
      "payment_type            0\n",
      "payment_installments    0\n",
      "payment_value           0\n",
      "dtype: int64 \n",
      "\n",
      "\n",
      "PRODUCTS - NULL values:\n",
      "product_id                      0\n",
      "product_category_name         610\n",
      "product_name_lenght           610\n",
      "product_description_lenght    610\n",
      "product_photos_qty            610\n",
      "product_weight_g                2\n",
      "product_length_cm               2\n",
      "product_height_cm               2\n",
      "product_width_cm                2\n",
      "dtype: int64 \n",
      "\n",
      "\n",
      "CATEGORIES - NULL values:\n",
      "product_category_name            0\n",
      "product_category_name_english    0\n",
      "dtype: int64 \n",
      "\n",
      "\n",
      "REVIEWS - NULL values:\n",
      "review_id                      0\n",
      "order_id                       0\n",
      "review_score                   0\n",
      "review_comment_title       87656\n",
      "review_comment_message     58247\n",
      "review_creation_date           0\n",
      "review_answer_timestamp        0\n",
      "dtype: int64 \n",
      "\n"
     ]
    }
   ],
   "source": [
    "# Mengecek jumlah null value pada tiap dataset\n",
    "for name, df in dfs.items():\n",
    "    print(f\"\\n{name.upper()} - NULL values:\")\n",
    "    print(df.isnull().sum(),'\\n')"
   ]
  },
  {
   "cell_type": "markdown",
   "metadata": {},
   "source": [
    "Duplicate Data"
   ]
  },
  {
   "cell_type": "code",
   "execution_count": 17,
   "metadata": {},
   "outputs": [
    {
     "name": "stdout",
     "output_type": "stream",
     "text": [
      "\n",
      "ORDERS - Duplicates: 0\n",
      "\n",
      "ORDER_ITEMS - Duplicates: 0\n",
      "\n",
      "PAYMENTS - Duplicates: 0\n",
      "\n",
      "PRODUCTS - Duplicates: 0\n",
      "\n",
      "CATEGORIES - Duplicates: 0\n",
      "\n",
      "REVIEWS - Duplicates: 0\n"
     ]
    }
   ],
   "source": [
    "# Mengecek jumlah baris yang duplikat tiap dataset\n",
    "for name, df in dfs.items():\n",
    "    print(f\"\\n{name.upper()} - Duplicates: {df.duplicated().sum()}\")"
   ]
  },
  {
   "cell_type": "markdown",
   "metadata": {
    "id": "7dtxhAPrkhPL"
   },
   "source": [
    "**Insight:**\n",
    "- Missing value ditemukan pada beberapa kolom dataset, kita pahami dulu penyebab yang relevan adanya null value\n",
    "- Tidak ada data yang duplikat pada semua dataset"
   ]
  },
  {
   "cell_type": "markdown",
   "metadata": {
    "id": "EhN5R4hr8DC1"
   },
   "source": [
    "### Cleaning Data"
   ]
  },
  {
   "cell_type": "markdown",
   "metadata": {},
   "source": [
    "Mengubah Tipe Data"
   ]
  },
  {
   "cell_type": "code",
   "execution_count": 21,
   "metadata": {
    "id": "jVnYpprE9Evz"
   },
   "outputs": [],
   "source": [
    "# Mengubah tipe data object menjadi datetime\n",
    "orders['order_purchase_timestamp'] = pd.to_datetime(orders['order_purchase_timestamp'])\n",
    "orders['order_approved_at'] = pd.to_datetime(orders['order_approved_at'])\n",
    "orders['order_delivered_carrier_date'] = pd.to_datetime(orders['order_delivered_carrier_date'])\n",
    "orders['order_delivered_customer_date'] = pd.to_datetime(orders['order_delivered_customer_date'])\n",
    "orders['order_estimated_delivery_date'] = pd.to_datetime(orders['order_estimated_delivery_date'])\n",
    "\n",
    "order_items['shipping_limit_date'] = pd.to_datetime(order_items['shipping_limit_date'])\n",
    "\n",
    "reviews['review_creation_date'] = pd.to_datetime(reviews['review_creation_date'])"
   ]
  },
  {
   "cell_type": "markdown",
   "metadata": {},
   "source": [
    "Dropping Columns"
   ]
  },
  {
   "cell_type": "code",
   "execution_count": 23,
   "metadata": {},
   "outputs": [],
   "source": [
    "# Menghapus kolom yang kurang relevan dengan pertanyaan bisnis\n",
    "products.drop(['product_name_lenght', 'product_description_lenght', 'product_photos_qty'], \\\n",
    "              axis=1, inplace=True)"
   ]
  },
  {
   "cell_type": "code",
   "execution_count": 24,
   "metadata": {},
   "outputs": [
    {
     "data": {
      "text/html": [
       "<div>\n",
       "<style scoped>\n",
       "    .dataframe tbody tr th:only-of-type {\n",
       "        vertical-align: middle;\n",
       "    }\n",
       "\n",
       "    .dataframe tbody tr th {\n",
       "        vertical-align: top;\n",
       "    }\n",
       "\n",
       "    .dataframe thead th {\n",
       "        text-align: right;\n",
       "    }\n",
       "</style>\n",
       "<table border=\"1\" class=\"dataframe\">\n",
       "  <thead>\n",
       "    <tr style=\"text-align: right;\">\n",
       "      <th></th>\n",
       "      <th>product_id</th>\n",
       "      <th>product_category_name</th>\n",
       "      <th>product_weight_g</th>\n",
       "      <th>product_length_cm</th>\n",
       "      <th>product_height_cm</th>\n",
       "      <th>product_width_cm</th>\n",
       "    </tr>\n",
       "  </thead>\n",
       "  <tbody>\n",
       "    <tr>\n",
       "      <th>0</th>\n",
       "      <td>1e9e8ef04dbcff4541ed26657ea517e5</td>\n",
       "      <td>perfumaria</td>\n",
       "      <td>225.0</td>\n",
       "      <td>16.0</td>\n",
       "      <td>10.0</td>\n",
       "      <td>14.0</td>\n",
       "    </tr>\n",
       "    <tr>\n",
       "      <th>1</th>\n",
       "      <td>3aa071139cb16b67ca9e5dea641aaa2f</td>\n",
       "      <td>artes</td>\n",
       "      <td>1000.0</td>\n",
       "      <td>30.0</td>\n",
       "      <td>18.0</td>\n",
       "      <td>20.0</td>\n",
       "    </tr>\n",
       "    <tr>\n",
       "      <th>2</th>\n",
       "      <td>96bd76ec8810374ed1b65e291975717f</td>\n",
       "      <td>esporte_lazer</td>\n",
       "      <td>154.0</td>\n",
       "      <td>18.0</td>\n",
       "      <td>9.0</td>\n",
       "      <td>15.0</td>\n",
       "    </tr>\n",
       "    <tr>\n",
       "      <th>3</th>\n",
       "      <td>cef67bcfe19066a932b7673e239eb23d</td>\n",
       "      <td>bebes</td>\n",
       "      <td>371.0</td>\n",
       "      <td>26.0</td>\n",
       "      <td>4.0</td>\n",
       "      <td>26.0</td>\n",
       "    </tr>\n",
       "    <tr>\n",
       "      <th>4</th>\n",
       "      <td>9dc1a7de274444849c219cff195d0b71</td>\n",
       "      <td>utilidades_domesticas</td>\n",
       "      <td>625.0</td>\n",
       "      <td>20.0</td>\n",
       "      <td>17.0</td>\n",
       "      <td>13.0</td>\n",
       "    </tr>\n",
       "  </tbody>\n",
       "</table>\n",
       "</div>"
      ],
      "text/plain": [
       "                         product_id  product_category_name  product_weight_g  \\\n",
       "0  1e9e8ef04dbcff4541ed26657ea517e5             perfumaria             225.0   \n",
       "1  3aa071139cb16b67ca9e5dea641aaa2f                  artes            1000.0   \n",
       "2  96bd76ec8810374ed1b65e291975717f          esporte_lazer             154.0   \n",
       "3  cef67bcfe19066a932b7673e239eb23d                  bebes             371.0   \n",
       "4  9dc1a7de274444849c219cff195d0b71  utilidades_domesticas             625.0   \n",
       "\n",
       "   product_length_cm  product_height_cm  product_width_cm  \n",
       "0               16.0               10.0              14.0  \n",
       "1               30.0               18.0              20.0  \n",
       "2               18.0                9.0              15.0  \n",
       "3               26.0                4.0              26.0  \n",
       "4               20.0               17.0              13.0  "
      ]
     },
     "execution_count": 24,
     "metadata": {},
     "output_type": "execute_result"
    }
   ],
   "source": [
    "products.head()"
   ]
  },
  {
   "cell_type": "code",
   "execution_count": 25,
   "metadata": {},
   "outputs": [],
   "source": [
    "# Menghapus review_comment_title karena fungsinya dapat digantikan dengan review_comment_message\n",
    "reviews.drop('review_comment_title', axis=1, inplace=True)"
   ]
  },
  {
   "cell_type": "code",
   "execution_count": 26,
   "metadata": {},
   "outputs": [
    {
     "data": {
      "text/html": [
       "<div>\n",
       "<style scoped>\n",
       "    .dataframe tbody tr th:only-of-type {\n",
       "        vertical-align: middle;\n",
       "    }\n",
       "\n",
       "    .dataframe tbody tr th {\n",
       "        vertical-align: top;\n",
       "    }\n",
       "\n",
       "    .dataframe thead th {\n",
       "        text-align: right;\n",
       "    }\n",
       "</style>\n",
       "<table border=\"1\" class=\"dataframe\">\n",
       "  <thead>\n",
       "    <tr style=\"text-align: right;\">\n",
       "      <th></th>\n",
       "      <th>review_id</th>\n",
       "      <th>order_id</th>\n",
       "      <th>review_score</th>\n",
       "      <th>review_comment_message</th>\n",
       "      <th>review_creation_date</th>\n",
       "      <th>review_answer_timestamp</th>\n",
       "    </tr>\n",
       "  </thead>\n",
       "  <tbody>\n",
       "    <tr>\n",
       "      <th>0</th>\n",
       "      <td>7bc2406110b926393aa56f80a40eba40</td>\n",
       "      <td>73fc7af87114b39712e6da79b0a377eb</td>\n",
       "      <td>4</td>\n",
       "      <td>NaN</td>\n",
       "      <td>2018-01-18</td>\n",
       "      <td>2018-01-18 21:46:59</td>\n",
       "    </tr>\n",
       "    <tr>\n",
       "      <th>1</th>\n",
       "      <td>80e641a11e56f04c1ad469d5645fdfde</td>\n",
       "      <td>a548910a1c6147796b98fdf73dbeba33</td>\n",
       "      <td>5</td>\n",
       "      <td>NaN</td>\n",
       "      <td>2018-03-10</td>\n",
       "      <td>2018-03-11 03:05:13</td>\n",
       "    </tr>\n",
       "    <tr>\n",
       "      <th>2</th>\n",
       "      <td>228ce5500dc1d8e020d8d1322874b6f0</td>\n",
       "      <td>f9e4b658b201a9f2ecdecbb34bed034b</td>\n",
       "      <td>5</td>\n",
       "      <td>NaN</td>\n",
       "      <td>2018-02-17</td>\n",
       "      <td>2018-02-18 14:36:24</td>\n",
       "    </tr>\n",
       "    <tr>\n",
       "      <th>3</th>\n",
       "      <td>e64fb393e7b32834bb789ff8bb30750e</td>\n",
       "      <td>658677c97b385a9be170737859d3511b</td>\n",
       "      <td>5</td>\n",
       "      <td>Recebi bem antes do prazo estipulado.</td>\n",
       "      <td>2017-04-21</td>\n",
       "      <td>2017-04-21 22:02:06</td>\n",
       "    </tr>\n",
       "    <tr>\n",
       "      <th>4</th>\n",
       "      <td>f7c4243c7fe1938f181bec41a392bdeb</td>\n",
       "      <td>8e6bfb81e283fa7e4f11123a3fb894f1</td>\n",
       "      <td>5</td>\n",
       "      <td>Parabéns lojas lannister adorei comprar pela I...</td>\n",
       "      <td>2018-03-01</td>\n",
       "      <td>2018-03-02 10:26:53</td>\n",
       "    </tr>\n",
       "  </tbody>\n",
       "</table>\n",
       "</div>"
      ],
      "text/plain": [
       "                          review_id                          order_id  \\\n",
       "0  7bc2406110b926393aa56f80a40eba40  73fc7af87114b39712e6da79b0a377eb   \n",
       "1  80e641a11e56f04c1ad469d5645fdfde  a548910a1c6147796b98fdf73dbeba33   \n",
       "2  228ce5500dc1d8e020d8d1322874b6f0  f9e4b658b201a9f2ecdecbb34bed034b   \n",
       "3  e64fb393e7b32834bb789ff8bb30750e  658677c97b385a9be170737859d3511b   \n",
       "4  f7c4243c7fe1938f181bec41a392bdeb  8e6bfb81e283fa7e4f11123a3fb894f1   \n",
       "\n",
       "   review_score                             review_comment_message  \\\n",
       "0             4                                                NaN   \n",
       "1             5                                                NaN   \n",
       "2             5                                                NaN   \n",
       "3             5              Recebi bem antes do prazo estipulado.   \n",
       "4             5  Parabéns lojas lannister adorei comprar pela I...   \n",
       "\n",
       "  review_creation_date review_answer_timestamp  \n",
       "0           2018-01-18     2018-01-18 21:46:59  \n",
       "1           2018-03-10     2018-03-11 03:05:13  \n",
       "2           2018-02-17     2018-02-18 14:36:24  \n",
       "3           2017-04-21     2017-04-21 22:02:06  \n",
       "4           2018-03-01     2018-03-02 10:26:53  "
      ]
     },
     "execution_count": 26,
     "metadata": {},
     "output_type": "execute_result"
    }
   ],
   "source": [
    "reviews.head()"
   ]
  },
  {
   "cell_type": "markdown",
   "metadata": {},
   "source": [
    "Menambah kolom baru"
   ]
  },
  {
   "cell_type": "code",
   "execution_count": 28,
   "metadata": {},
   "outputs": [],
   "source": [
    "# Membuat kolom baru product_category_name_english yang berisi value product_category_name_english dari categories tiap product_id\n",
    "products['product_category_name_english'] = products['product_category_name']\\\n",
    ".map(categories.set_index('product_category_name')['product_category_name_english'])"
   ]
  },
  {
   "cell_type": "code",
   "execution_count": 29,
   "metadata": {},
   "outputs": [
    {
     "data": {
      "text/html": [
       "<div>\n",
       "<style scoped>\n",
       "    .dataframe tbody tr th:only-of-type {\n",
       "        vertical-align: middle;\n",
       "    }\n",
       "\n",
       "    .dataframe tbody tr th {\n",
       "        vertical-align: top;\n",
       "    }\n",
       "\n",
       "    .dataframe thead th {\n",
       "        text-align: right;\n",
       "    }\n",
       "</style>\n",
       "<table border=\"1\" class=\"dataframe\">\n",
       "  <thead>\n",
       "    <tr style=\"text-align: right;\">\n",
       "      <th></th>\n",
       "      <th>product_id</th>\n",
       "      <th>product_category_name</th>\n",
       "      <th>product_weight_g</th>\n",
       "      <th>product_length_cm</th>\n",
       "      <th>product_height_cm</th>\n",
       "      <th>product_width_cm</th>\n",
       "      <th>product_category_name_english</th>\n",
       "    </tr>\n",
       "  </thead>\n",
       "  <tbody>\n",
       "    <tr>\n",
       "      <th>0</th>\n",
       "      <td>1e9e8ef04dbcff4541ed26657ea517e5</td>\n",
       "      <td>perfumaria</td>\n",
       "      <td>225.0</td>\n",
       "      <td>16.0</td>\n",
       "      <td>10.0</td>\n",
       "      <td>14.0</td>\n",
       "      <td>perfumery</td>\n",
       "    </tr>\n",
       "    <tr>\n",
       "      <th>1</th>\n",
       "      <td>3aa071139cb16b67ca9e5dea641aaa2f</td>\n",
       "      <td>artes</td>\n",
       "      <td>1000.0</td>\n",
       "      <td>30.0</td>\n",
       "      <td>18.0</td>\n",
       "      <td>20.0</td>\n",
       "      <td>art</td>\n",
       "    </tr>\n",
       "    <tr>\n",
       "      <th>2</th>\n",
       "      <td>96bd76ec8810374ed1b65e291975717f</td>\n",
       "      <td>esporte_lazer</td>\n",
       "      <td>154.0</td>\n",
       "      <td>18.0</td>\n",
       "      <td>9.0</td>\n",
       "      <td>15.0</td>\n",
       "      <td>sports_leisure</td>\n",
       "    </tr>\n",
       "    <tr>\n",
       "      <th>3</th>\n",
       "      <td>cef67bcfe19066a932b7673e239eb23d</td>\n",
       "      <td>bebes</td>\n",
       "      <td>371.0</td>\n",
       "      <td>26.0</td>\n",
       "      <td>4.0</td>\n",
       "      <td>26.0</td>\n",
       "      <td>baby</td>\n",
       "    </tr>\n",
       "    <tr>\n",
       "      <th>4</th>\n",
       "      <td>9dc1a7de274444849c219cff195d0b71</td>\n",
       "      <td>utilidades_domesticas</td>\n",
       "      <td>625.0</td>\n",
       "      <td>20.0</td>\n",
       "      <td>17.0</td>\n",
       "      <td>13.0</td>\n",
       "      <td>housewares</td>\n",
       "    </tr>\n",
       "  </tbody>\n",
       "</table>\n",
       "</div>"
      ],
      "text/plain": [
       "                         product_id  product_category_name  product_weight_g  \\\n",
       "0  1e9e8ef04dbcff4541ed26657ea517e5             perfumaria             225.0   \n",
       "1  3aa071139cb16b67ca9e5dea641aaa2f                  artes            1000.0   \n",
       "2  96bd76ec8810374ed1b65e291975717f          esporte_lazer             154.0   \n",
       "3  cef67bcfe19066a932b7673e239eb23d                  bebes             371.0   \n",
       "4  9dc1a7de274444849c219cff195d0b71  utilidades_domesticas             625.0   \n",
       "\n",
       "   product_length_cm  product_height_cm  product_width_cm  \\\n",
       "0               16.0               10.0              14.0   \n",
       "1               30.0               18.0              20.0   \n",
       "2               18.0                9.0              15.0   \n",
       "3               26.0                4.0              26.0   \n",
       "4               20.0               17.0              13.0   \n",
       "\n",
       "  product_category_name_english  \n",
       "0                     perfumery  \n",
       "1                           art  \n",
       "2                sports_leisure  \n",
       "3                          baby  \n",
       "4                    housewares  "
      ]
     },
     "execution_count": 29,
     "metadata": {},
     "output_type": "execute_result"
    }
   ],
   "source": [
    "products.head()"
   ]
  },
  {
   "cell_type": "code",
   "execution_count": 30,
   "metadata": {},
   "outputs": [],
   "source": [
    "# Membuat kolom baru product_category_english yang berisi value product_category_name_english dari products tiap product_id\n",
    "order_items['product_category_english'] = order_items['product_id']\\\n",
    ".map(products.set_index('product_id')['product_category_name_english'])"
   ]
  },
  {
   "cell_type": "code",
   "execution_count": 31,
   "metadata": {},
   "outputs": [
    {
     "data": {
      "text/html": [
       "<div>\n",
       "<style scoped>\n",
       "    .dataframe tbody tr th:only-of-type {\n",
       "        vertical-align: middle;\n",
       "    }\n",
       "\n",
       "    .dataframe tbody tr th {\n",
       "        vertical-align: top;\n",
       "    }\n",
       "\n",
       "    .dataframe thead th {\n",
       "        text-align: right;\n",
       "    }\n",
       "</style>\n",
       "<table border=\"1\" class=\"dataframe\">\n",
       "  <thead>\n",
       "    <tr style=\"text-align: right;\">\n",
       "      <th></th>\n",
       "      <th>order_id</th>\n",
       "      <th>order_item_id</th>\n",
       "      <th>product_id</th>\n",
       "      <th>seller_id</th>\n",
       "      <th>shipping_limit_date</th>\n",
       "      <th>price</th>\n",
       "      <th>freight_value</th>\n",
       "      <th>product_category_english</th>\n",
       "    </tr>\n",
       "  </thead>\n",
       "  <tbody>\n",
       "    <tr>\n",
       "      <th>0</th>\n",
       "      <td>00010242fe8c5a6d1ba2dd792cb16214</td>\n",
       "      <td>1</td>\n",
       "      <td>4244733e06e7ecb4970a6e2683c13e61</td>\n",
       "      <td>48436dade18ac8b2bce089ec2a041202</td>\n",
       "      <td>2017-09-19 09:45:35</td>\n",
       "      <td>58.90</td>\n",
       "      <td>13.29</td>\n",
       "      <td>cool_stuff</td>\n",
       "    </tr>\n",
       "    <tr>\n",
       "      <th>1</th>\n",
       "      <td>00018f77f2f0320c557190d7a144bdd3</td>\n",
       "      <td>1</td>\n",
       "      <td>e5f2d52b802189ee658865ca93d83a8f</td>\n",
       "      <td>dd7ddc04e1b6c2c614352b383efe2d36</td>\n",
       "      <td>2017-05-03 11:05:13</td>\n",
       "      <td>239.90</td>\n",
       "      <td>19.93</td>\n",
       "      <td>pet_shop</td>\n",
       "    </tr>\n",
       "    <tr>\n",
       "      <th>2</th>\n",
       "      <td>000229ec398224ef6ca0657da4fc703e</td>\n",
       "      <td>1</td>\n",
       "      <td>c777355d18b72b67abbeef9df44fd0fd</td>\n",
       "      <td>5b51032eddd242adc84c38acab88f23d</td>\n",
       "      <td>2018-01-18 14:48:30</td>\n",
       "      <td>199.00</td>\n",
       "      <td>17.87</td>\n",
       "      <td>furniture_decor</td>\n",
       "    </tr>\n",
       "    <tr>\n",
       "      <th>3</th>\n",
       "      <td>00024acbcdf0a6daa1e931b038114c75</td>\n",
       "      <td>1</td>\n",
       "      <td>7634da152a4610f1595efa32f14722fc</td>\n",
       "      <td>9d7a1d34a5052409006425275ba1c2b4</td>\n",
       "      <td>2018-08-15 10:10:18</td>\n",
       "      <td>12.99</td>\n",
       "      <td>12.79</td>\n",
       "      <td>perfumery</td>\n",
       "    </tr>\n",
       "    <tr>\n",
       "      <th>4</th>\n",
       "      <td>00042b26cf59d7ce69dfabb4e55b4fd9</td>\n",
       "      <td>1</td>\n",
       "      <td>ac6c3623068f30de03045865e4e10089</td>\n",
       "      <td>df560393f3a51e74553ab94004ba5c87</td>\n",
       "      <td>2017-02-13 13:57:51</td>\n",
       "      <td>199.90</td>\n",
       "      <td>18.14</td>\n",
       "      <td>garden_tools</td>\n",
       "    </tr>\n",
       "  </tbody>\n",
       "</table>\n",
       "</div>"
      ],
      "text/plain": [
       "                           order_id  order_item_id  \\\n",
       "0  00010242fe8c5a6d1ba2dd792cb16214              1   \n",
       "1  00018f77f2f0320c557190d7a144bdd3              1   \n",
       "2  000229ec398224ef6ca0657da4fc703e              1   \n",
       "3  00024acbcdf0a6daa1e931b038114c75              1   \n",
       "4  00042b26cf59d7ce69dfabb4e55b4fd9              1   \n",
       "\n",
       "                         product_id                         seller_id  \\\n",
       "0  4244733e06e7ecb4970a6e2683c13e61  48436dade18ac8b2bce089ec2a041202   \n",
       "1  e5f2d52b802189ee658865ca93d83a8f  dd7ddc04e1b6c2c614352b383efe2d36   \n",
       "2  c777355d18b72b67abbeef9df44fd0fd  5b51032eddd242adc84c38acab88f23d   \n",
       "3  7634da152a4610f1595efa32f14722fc  9d7a1d34a5052409006425275ba1c2b4   \n",
       "4  ac6c3623068f30de03045865e4e10089  df560393f3a51e74553ab94004ba5c87   \n",
       "\n",
       "  shipping_limit_date   price  freight_value product_category_english  \n",
       "0 2017-09-19 09:45:35   58.90          13.29               cool_stuff  \n",
       "1 2017-05-03 11:05:13  239.90          19.93                 pet_shop  \n",
       "2 2018-01-18 14:48:30  199.00          17.87          furniture_decor  \n",
       "3 2018-08-15 10:10:18   12.99          12.79                perfumery  \n",
       "4 2017-02-13 13:57:51  199.90          18.14             garden_tools  "
      ]
     },
     "execution_count": 31,
     "metadata": {},
     "output_type": "execute_result"
    }
   ],
   "source": [
    "order_items.head()"
   ]
  },
  {
   "cell_type": "code",
   "execution_count": 32,
   "metadata": {},
   "outputs": [],
   "source": [
    "# Membuat kolom baru purchase_year_month yang merupakan ekstrak tahun dan bulan dari order_purchase_timestamp\n",
    "orders['purchase_year_month'] = orders['order_purchase_timestamp'].dt.strftime('%Y-%m')"
   ]
  },
  {
   "cell_type": "code",
   "execution_count": 33,
   "metadata": {},
   "outputs": [
    {
     "data": {
      "text/html": [
       "<div>\n",
       "<style scoped>\n",
       "    .dataframe tbody tr th:only-of-type {\n",
       "        vertical-align: middle;\n",
       "    }\n",
       "\n",
       "    .dataframe tbody tr th {\n",
       "        vertical-align: top;\n",
       "    }\n",
       "\n",
       "    .dataframe thead th {\n",
       "        text-align: right;\n",
       "    }\n",
       "</style>\n",
       "<table border=\"1\" class=\"dataframe\">\n",
       "  <thead>\n",
       "    <tr style=\"text-align: right;\">\n",
       "      <th></th>\n",
       "      <th>order_id</th>\n",
       "      <th>customer_id</th>\n",
       "      <th>order_status</th>\n",
       "      <th>order_purchase_timestamp</th>\n",
       "      <th>order_approved_at</th>\n",
       "      <th>order_delivered_carrier_date</th>\n",
       "      <th>order_delivered_customer_date</th>\n",
       "      <th>order_estimated_delivery_date</th>\n",
       "      <th>purchase_year_month</th>\n",
       "    </tr>\n",
       "  </thead>\n",
       "  <tbody>\n",
       "    <tr>\n",
       "      <th>0</th>\n",
       "      <td>e481f51cbdc54678b7cc49136f2d6af7</td>\n",
       "      <td>9ef432eb6251297304e76186b10a928d</td>\n",
       "      <td>delivered</td>\n",
       "      <td>2017-10-02 10:56:33</td>\n",
       "      <td>2017-10-02 11:07:15</td>\n",
       "      <td>2017-10-04 19:55:00</td>\n",
       "      <td>2017-10-10 21:25:13</td>\n",
       "      <td>2017-10-18</td>\n",
       "      <td>2017-10</td>\n",
       "    </tr>\n",
       "    <tr>\n",
       "      <th>1</th>\n",
       "      <td>53cdb2fc8bc7dce0b6741e2150273451</td>\n",
       "      <td>b0830fb4747a6c6d20dea0b8c802d7ef</td>\n",
       "      <td>delivered</td>\n",
       "      <td>2018-07-24 20:41:37</td>\n",
       "      <td>2018-07-26 03:24:27</td>\n",
       "      <td>2018-07-26 14:31:00</td>\n",
       "      <td>2018-08-07 15:27:45</td>\n",
       "      <td>2018-08-13</td>\n",
       "      <td>2018-07</td>\n",
       "    </tr>\n",
       "    <tr>\n",
       "      <th>2</th>\n",
       "      <td>47770eb9100c2d0c44946d9cf07ec65d</td>\n",
       "      <td>41ce2a54c0b03bf3443c3d931a367089</td>\n",
       "      <td>delivered</td>\n",
       "      <td>2018-08-08 08:38:49</td>\n",
       "      <td>2018-08-08 08:55:23</td>\n",
       "      <td>2018-08-08 13:50:00</td>\n",
       "      <td>2018-08-17 18:06:29</td>\n",
       "      <td>2018-09-04</td>\n",
       "      <td>2018-08</td>\n",
       "    </tr>\n",
       "    <tr>\n",
       "      <th>3</th>\n",
       "      <td>949d5b44dbf5de918fe9c16f97b45f8a</td>\n",
       "      <td>f88197465ea7920adcdbec7375364d82</td>\n",
       "      <td>delivered</td>\n",
       "      <td>2017-11-18 19:28:06</td>\n",
       "      <td>2017-11-18 19:45:59</td>\n",
       "      <td>2017-11-22 13:39:59</td>\n",
       "      <td>2017-12-02 00:28:42</td>\n",
       "      <td>2017-12-15</td>\n",
       "      <td>2017-11</td>\n",
       "    </tr>\n",
       "    <tr>\n",
       "      <th>4</th>\n",
       "      <td>ad21c59c0840e6cb83a9ceb5573f8159</td>\n",
       "      <td>8ab97904e6daea8866dbdbc4fb7aad2c</td>\n",
       "      <td>delivered</td>\n",
       "      <td>2018-02-13 21:18:39</td>\n",
       "      <td>2018-02-13 22:20:29</td>\n",
       "      <td>2018-02-14 19:46:34</td>\n",
       "      <td>2018-02-16 18:17:02</td>\n",
       "      <td>2018-02-26</td>\n",
       "      <td>2018-02</td>\n",
       "    </tr>\n",
       "  </tbody>\n",
       "</table>\n",
       "</div>"
      ],
      "text/plain": [
       "                           order_id                       customer_id  \\\n",
       "0  e481f51cbdc54678b7cc49136f2d6af7  9ef432eb6251297304e76186b10a928d   \n",
       "1  53cdb2fc8bc7dce0b6741e2150273451  b0830fb4747a6c6d20dea0b8c802d7ef   \n",
       "2  47770eb9100c2d0c44946d9cf07ec65d  41ce2a54c0b03bf3443c3d931a367089   \n",
       "3  949d5b44dbf5de918fe9c16f97b45f8a  f88197465ea7920adcdbec7375364d82   \n",
       "4  ad21c59c0840e6cb83a9ceb5573f8159  8ab97904e6daea8866dbdbc4fb7aad2c   \n",
       "\n",
       "  order_status order_purchase_timestamp   order_approved_at  \\\n",
       "0    delivered      2017-10-02 10:56:33 2017-10-02 11:07:15   \n",
       "1    delivered      2018-07-24 20:41:37 2018-07-26 03:24:27   \n",
       "2    delivered      2018-08-08 08:38:49 2018-08-08 08:55:23   \n",
       "3    delivered      2017-11-18 19:28:06 2017-11-18 19:45:59   \n",
       "4    delivered      2018-02-13 21:18:39 2018-02-13 22:20:29   \n",
       "\n",
       "  order_delivered_carrier_date order_delivered_customer_date  \\\n",
       "0          2017-10-04 19:55:00           2017-10-10 21:25:13   \n",
       "1          2018-07-26 14:31:00           2018-08-07 15:27:45   \n",
       "2          2018-08-08 13:50:00           2018-08-17 18:06:29   \n",
       "3          2017-11-22 13:39:59           2017-12-02 00:28:42   \n",
       "4          2018-02-14 19:46:34           2018-02-16 18:17:02   \n",
       "\n",
       "  order_estimated_delivery_date purchase_year_month  \n",
       "0                    2017-10-18             2017-10  \n",
       "1                    2018-08-13             2018-07  \n",
       "2                    2018-09-04             2018-08  \n",
       "3                    2017-12-15             2017-11  \n",
       "4                    2018-02-26             2018-02  "
      ]
     },
     "execution_count": 33,
     "metadata": {},
     "output_type": "execute_result"
    }
   ],
   "source": [
    "orders.head()"
   ]
  },
  {
   "cell_type": "markdown",
   "metadata": {},
   "source": [
    "Imputation"
   ]
  },
  {
   "cell_type": "code",
   "execution_count": 35,
   "metadata": {},
   "outputs": [],
   "source": [
    "# Mengisi null value beberapa kolom products yang numerik dengan nilai median dan kategori dengan label 'unknown'\n",
    "products['product_category_name'] = products['product_category_name'].fillna('unknown')\n",
    "products['product_category_name_english'] = products['product_category_name_english'].fillna('unknown')\n",
    "products['product_weight_g'] = products['product_weight_g'].fillna(products['product_weight_g'].median())\n",
    "products['product_length_cm'] = products['product_length_cm'].fillna(products['product_length_cm'].median())\n",
    "products['product_height_cm'] = products['product_height_cm'].fillna(products['product_height_cm'].median())\n",
    "products['product_width_cm'] = products['product_width_cm'].fillna(products['product_width_cm'].median())"
   ]
  },
  {
   "cell_type": "code",
   "execution_count": 36,
   "metadata": {},
   "outputs": [
    {
     "data": {
      "text/plain": [
       "product_id                       0\n",
       "product_category_name            0\n",
       "product_weight_g                 0\n",
       "product_length_cm                0\n",
       "product_height_cm                0\n",
       "product_width_cm                 0\n",
       "product_category_name_english    0\n",
       "dtype: int64"
      ]
     },
     "execution_count": 36,
     "metadata": {},
     "output_type": "execute_result"
    }
   ],
   "source": [
    "products.isnull().sum()"
   ]
  },
  {
   "cell_type": "code",
   "execution_count": 37,
   "metadata": {},
   "outputs": [],
   "source": [
    "# Mengisi null value beberapa kolom orders yang bertipe datetime disamakan dengan 'order_purchase_timestamp'\n",
    "orders['order_approved_at'] = orders['order_approved_at'].fillna(orders['order_purchase_timestamp'])\n",
    "orders['order_delivered_carrier_date'] = orders['order_delivered_carrier_date'].fillna(orders['order_approved_at'])\n",
    "orders['order_delivered_customer_date'] = orders['order_delivered_customer_date'].fillna(orders['order_estimated_delivery_date'])"
   ]
  },
  {
   "cell_type": "code",
   "execution_count": 38,
   "metadata": {},
   "outputs": [
    {
     "data": {
      "text/plain": [
       "order_id                         0\n",
       "customer_id                      0\n",
       "order_status                     0\n",
       "order_purchase_timestamp         0\n",
       "order_approved_at                0\n",
       "order_delivered_carrier_date     0\n",
       "order_delivered_customer_date    0\n",
       "order_estimated_delivery_date    0\n",
       "purchase_year_month              0\n",
       "dtype: int64"
      ]
     },
     "execution_count": 38,
     "metadata": {},
     "output_type": "execute_result"
    }
   ],
   "source": [
    "orders.isnull().sum()"
   ]
  },
  {
   "cell_type": "code",
   "execution_count": 39,
   "metadata": {},
   "outputs": [],
   "source": [
    "# Mengisi null value product_category_english pada order_items dengan label 'unknown'\n",
    "order_items['product_category_english'] = order_items['product_category_english'].fillna('unknown')"
   ]
  },
  {
   "cell_type": "code",
   "execution_count": 40,
   "metadata": {},
   "outputs": [
    {
     "data": {
      "text/plain": [
       "order_id                    0\n",
       "order_item_id               0\n",
       "product_id                  0\n",
       "seller_id                   0\n",
       "shipping_limit_date         0\n",
       "price                       0\n",
       "freight_value               0\n",
       "product_category_english    0\n",
       "dtype: int64"
      ]
     },
     "execution_count": 40,
     "metadata": {},
     "output_type": "execute_result"
    }
   ],
   "source": [
    "order_items.isnull().sum()"
   ]
  },
  {
   "cell_type": "markdown",
   "metadata": {},
   "source": [
    "### Merging Data"
   ]
  },
  {
   "cell_type": "code",
   "execution_count": 42,
   "metadata": {},
   "outputs": [],
   "source": [
    "# Merge value berdasarkan order_id dari beberapa dataframe dimapping ke dataframe orders\n",
    "orders = orders.merge(order_items[['order_id', 'seller_id', 'product_id', 'product_category_english', 'price']], how='left', on='order_id')\n",
    "orders = orders.merge(payments[['order_id', 'payment_type', 'payment_value', 'payment_installments']], how='left', on='order_id')\n",
    "orders = orders.merge(reviews[['order_id', 'review_score', 'review_comment_message']], how='left', on='order_id')"
   ]
  },
  {
   "cell_type": "code",
   "execution_count": 43,
   "metadata": {},
   "outputs": [
    {
     "data": {
      "text/plain": [
       "order_status\n",
       "unavailable    603\n",
       "canceled       164\n",
       "created          5\n",
       "invoiced         2\n",
       "shipped          1\n",
       "Name: count, dtype: int64"
      ]
     },
     "execution_count": 43,
     "metadata": {},
     "output_type": "execute_result"
    }
   ],
   "source": [
    "# Mengecek null value dari data order_items berdasarkan order_status\n",
    "cek_items = orders[orders['seller_id'].isnull() | orders['product_id'].isnull() | orders['product_category_english'].isnull() | orders['price'].isnull()][['order_id','order_status']]\n",
    "cek_items.drop_duplicates(keep='first', inplace=True)\n",
    "cek_items['order_status'].value_counts()"
   ]
  },
  {
   "cell_type": "code",
   "execution_count": 44,
   "metadata": {},
   "outputs": [],
   "source": [
    "# Mengecek kejanggalan order_id pada status selain 'unavailable' and 'canceled'\n",
    "status = ['created','invoiced','shipped']\n",
    "list_order = orders[(orders['seller_id'].isnull() | orders['product_id'].isnull()) & orders['order_status'].isin(status)]['order_id'].values"
   ]
  },
  {
   "cell_type": "code",
   "execution_count": 45,
   "metadata": {},
   "outputs": [
    {
     "data": {
      "text/html": [
       "<div>\n",
       "<style scoped>\n",
       "    .dataframe tbody tr th:only-of-type {\n",
       "        vertical-align: middle;\n",
       "    }\n",
       "\n",
       "    .dataframe tbody tr th {\n",
       "        vertical-align: top;\n",
       "    }\n",
       "\n",
       "    .dataframe thead th {\n",
       "        text-align: right;\n",
       "    }\n",
       "</style>\n",
       "<table border=\"1\" class=\"dataframe\">\n",
       "  <thead>\n",
       "    <tr style=\"text-align: right;\">\n",
       "      <th></th>\n",
       "      <th>order_id</th>\n",
       "      <th>payment_sequential</th>\n",
       "      <th>payment_type</th>\n",
       "      <th>payment_installments</th>\n",
       "      <th>payment_value</th>\n",
       "    </tr>\n",
       "  </thead>\n",
       "  <tbody>\n",
       "    <tr>\n",
       "      <th>26362</th>\n",
       "      <td>35de4050331c6c644cddc86f4f2d0d64</td>\n",
       "      <td>1</td>\n",
       "      <td>credit_card</td>\n",
       "      <td>7</td>\n",
       "      <td>105.87</td>\n",
       "    </tr>\n",
       "    <tr>\n",
       "      <th>41909</th>\n",
       "      <td>b5359909123fa03c50bdb0cfed07f098</td>\n",
       "      <td>1</td>\n",
       "      <td>credit_card</td>\n",
       "      <td>10</td>\n",
       "      <td>160.94</td>\n",
       "    </tr>\n",
       "    <tr>\n",
       "      <th>49542</th>\n",
       "      <td>7a4df5d8cff4090e541401a20a22bb80</td>\n",
       "      <td>1</td>\n",
       "      <td>boleto</td>\n",
       "      <td>1</td>\n",
       "      <td>37.84</td>\n",
       "    </tr>\n",
       "    <tr>\n",
       "      <th>68282</th>\n",
       "      <td>90ab3e7d52544ec7bc3363c82689965f</td>\n",
       "      <td>1</td>\n",
       "      <td>credit_card</td>\n",
       "      <td>6</td>\n",
       "      <td>245.85</td>\n",
       "    </tr>\n",
       "    <tr>\n",
       "      <th>75617</th>\n",
       "      <td>2ce9683175cdab7d1c95bcbb3e36f478</td>\n",
       "      <td>1</td>\n",
       "      <td>boleto</td>\n",
       "      <td>1</td>\n",
       "      <td>73.04</td>\n",
       "    </tr>\n",
       "    <tr>\n",
       "      <th>88900</th>\n",
       "      <td>a68ce1686d536ca72bd2dadc4b8671e5</td>\n",
       "      <td>1</td>\n",
       "      <td>boleto</td>\n",
       "      <td>1</td>\n",
       "      <td>77.73</td>\n",
       "    </tr>\n",
       "    <tr>\n",
       "      <th>95187</th>\n",
       "      <td>dba5062fbda3af4fb6c33b1e040ca38f</td>\n",
       "      <td>1</td>\n",
       "      <td>boleto</td>\n",
       "      <td>1</td>\n",
       "      <td>137.60</td>\n",
       "    </tr>\n",
       "    <tr>\n",
       "      <th>99415</th>\n",
       "      <td>e04f1da1f48bf2bbffcf57b9824f76e1</td>\n",
       "      <td>1</td>\n",
       "      <td>credit_card</td>\n",
       "      <td>7</td>\n",
       "      <td>76.19</td>\n",
       "    </tr>\n",
       "  </tbody>\n",
       "</table>\n",
       "</div>"
      ],
      "text/plain": [
       "                               order_id  payment_sequential payment_type  \\\n",
       "26362  35de4050331c6c644cddc86f4f2d0d64                   1  credit_card   \n",
       "41909  b5359909123fa03c50bdb0cfed07f098                   1  credit_card   \n",
       "49542  7a4df5d8cff4090e541401a20a22bb80                   1       boleto   \n",
       "68282  90ab3e7d52544ec7bc3363c82689965f                   1  credit_card   \n",
       "75617  2ce9683175cdab7d1c95bcbb3e36f478                   1       boleto   \n",
       "88900  a68ce1686d536ca72bd2dadc4b8671e5                   1       boleto   \n",
       "95187  dba5062fbda3af4fb6c33b1e040ca38f                   1       boleto   \n",
       "99415  e04f1da1f48bf2bbffcf57b9824f76e1                   1  credit_card   \n",
       "\n",
       "       payment_installments  payment_value  \n",
       "26362                     7         105.87  \n",
       "41909                    10         160.94  \n",
       "49542                     1          37.84  \n",
       "68282                     6         245.85  \n",
       "75617                     1          73.04  \n",
       "88900                     1          77.73  \n",
       "95187                     1         137.60  \n",
       "99415                     7          76.19  "
      ]
     },
     "execution_count": 45,
     "metadata": {},
     "output_type": "execute_result"
    }
   ],
   "source": [
    "# order_id yang hanya memiliki payment_value, tidak ada pesanan produk\n",
    "payments[payments['order_id'].isin(list_order)]"
   ]
  },
  {
   "cell_type": "code",
   "execution_count": 46,
   "metadata": {},
   "outputs": [
    {
     "data": {
      "text/html": [
       "<div>\n",
       "<style scoped>\n",
       "    .dataframe tbody tr th:only-of-type {\n",
       "        vertical-align: middle;\n",
       "    }\n",
       "\n",
       "    .dataframe tbody tr th {\n",
       "        vertical-align: top;\n",
       "    }\n",
       "\n",
       "    .dataframe thead th {\n",
       "        text-align: right;\n",
       "    }\n",
       "</style>\n",
       "<table border=\"1\" class=\"dataframe\">\n",
       "  <thead>\n",
       "    <tr style=\"text-align: right;\">\n",
       "      <th></th>\n",
       "      <th>order_id</th>\n",
       "      <th>order_item_id</th>\n",
       "      <th>product_id</th>\n",
       "      <th>seller_id</th>\n",
       "      <th>shipping_limit_date</th>\n",
       "      <th>price</th>\n",
       "      <th>freight_value</th>\n",
       "      <th>product_category_english</th>\n",
       "    </tr>\n",
       "  </thead>\n",
       "  <tbody>\n",
       "  </tbody>\n",
       "</table>\n",
       "</div>"
      ],
      "text/plain": [
       "Empty DataFrame\n",
       "Columns: [order_id, order_item_id, product_id, seller_id, shipping_limit_date, price, freight_value, product_category_english]\n",
       "Index: []"
      ]
     },
     "execution_count": 46,
     "metadata": {},
     "output_type": "execute_result"
    }
   ],
   "source": [
    "# Mengecek list order_id tersebut pada dataframe order_items\n",
    "order_items[order_items['order_id'].isin(list_order)]"
   ]
  },
  {
   "cell_type": "code",
   "execution_count": 47,
   "metadata": {},
   "outputs": [
    {
     "data": {
      "text/plain": [
       "1"
      ]
     },
     "execution_count": 47,
     "metadata": {},
     "output_type": "execute_result"
    }
   ],
   "source": [
    "# Mengecek null value dari data payments\n",
    "orders[orders['payment_type'].isnull() | orders['payment_value'].isnull() | orders['payment_installments'].isnull()]['order_id'].nunique()"
   ]
  },
  {
   "cell_type": "code",
   "execution_count": 48,
   "metadata": {},
   "outputs": [
    {
     "data": {
      "text/plain": [
       "array(['credit_card', 'boleto', 'voucher', 'debit_card', 'not_defined'],\n",
       "      dtype=object)"
      ]
     },
     "execution_count": 48,
     "metadata": {},
     "output_type": "execute_result"
    }
   ],
   "source": [
    "payments['payment_type'].unique()"
   ]
  },
  {
   "cell_type": "code",
   "execution_count": 49,
   "metadata": {},
   "outputs": [],
   "source": [
    "# Imputasi null value pada payment_type dengan label 'unknown' dan payment_installments dengan nilai median\n",
    "orders['payment_type'] = orders['payment_type'].fillna('not_defined')\n",
    "orders['payment_installments'] = orders['payment_installments'].fillna(orders['payment_installments'].median()).astype('int64')"
   ]
  },
  {
   "cell_type": "code",
   "execution_count": 50,
   "metadata": {},
   "outputs": [
    {
     "data": {
      "text/plain": [
       "payment_type            0\n",
       "payment_installments    0\n",
       "dtype: int64"
      ]
     },
     "execution_count": 50,
     "metadata": {},
     "output_type": "execute_result"
    }
   ],
   "source": [
    "orders[['payment_type','payment_installments']].isnull().sum()"
   ]
  },
  {
   "cell_type": "code",
   "execution_count": 51,
   "metadata": {},
   "outputs": [
    {
     "data": {
      "text/html": [
       "<div>\n",
       "<style scoped>\n",
       "    .dataframe tbody tr th:only-of-type {\n",
       "        vertical-align: middle;\n",
       "    }\n",
       "\n",
       "    .dataframe tbody tr th {\n",
       "        vertical-align: top;\n",
       "    }\n",
       "\n",
       "    .dataframe thead th {\n",
       "        text-align: right;\n",
       "    }\n",
       "</style>\n",
       "<table border=\"1\" class=\"dataframe\">\n",
       "  <thead>\n",
       "    <tr style=\"text-align: right;\">\n",
       "      <th></th>\n",
       "      <th>nunique_revid</th>\n",
       "    </tr>\n",
       "    <tr>\n",
       "      <th>order_id</th>\n",
       "      <th></th>\n",
       "    </tr>\n",
       "  </thead>\n",
       "  <tbody>\n",
       "    <tr>\n",
       "      <th>03c939fd7fd3b38f8485a0f95798f1f6</th>\n",
       "      <td>3</td>\n",
       "    </tr>\n",
       "    <tr>\n",
       "      <th>8e17072ec97ce29f0e1f111e598b0c85</th>\n",
       "      <td>3</td>\n",
       "    </tr>\n",
       "    <tr>\n",
       "      <th>c88b1d1b157a9999ce368f218a407141</th>\n",
       "      <td>3</td>\n",
       "    </tr>\n",
       "    <tr>\n",
       "      <th>df56136b8031ecd28e200bb18e6ddb2e</th>\n",
       "      <td>3</td>\n",
       "    </tr>\n",
       "  </tbody>\n",
       "</table>\n",
       "</div>"
      ],
      "text/plain": [
       "                                  nunique_revid\n",
       "order_id                                       \n",
       "03c939fd7fd3b38f8485a0f95798f1f6              3\n",
       "8e17072ec97ce29f0e1f111e598b0c85              3\n",
       "c88b1d1b157a9999ce368f218a407141              3\n",
       "df56136b8031ecd28e200bb18e6ddb2e              3"
      ]
     },
     "execution_count": 51,
     "metadata": {},
     "output_type": "execute_result"
    }
   ],
   "source": [
    "# Mengetahui 1 order_id dapat memiliki lebih dari 1 review_id\n",
    "cek_revid = reviews.groupby(by='order_id', as_index=True).agg(nunique_revid=('review_id', pd.Series.nunique))\n",
    "cek_revid = cek_revid[cek_revid['nunique_revid']>2] # jumlah review_id diatas 2\n",
    "cek_revid"
   ]
  },
  {
   "cell_type": "code",
   "execution_count": 52,
   "metadata": {},
   "outputs": [
    {
     "data": {
      "text/html": [
       "<div>\n",
       "<style scoped>\n",
       "    .dataframe tbody tr th:only-of-type {\n",
       "        vertical-align: middle;\n",
       "    }\n",
       "\n",
       "    .dataframe tbody tr th {\n",
       "        vertical-align: top;\n",
       "    }\n",
       "\n",
       "    .dataframe thead th {\n",
       "        text-align: right;\n",
       "    }\n",
       "</style>\n",
       "<table border=\"1\" class=\"dataframe\">\n",
       "  <thead>\n",
       "    <tr style=\"text-align: right;\">\n",
       "      <th></th>\n",
       "      <th>order_id</th>\n",
       "      <th>customer_id</th>\n",
       "      <th>order_status</th>\n",
       "      <th>order_purchase_timestamp</th>\n",
       "      <th>order_approved_at</th>\n",
       "      <th>order_delivered_carrier_date</th>\n",
       "      <th>order_delivered_customer_date</th>\n",
       "      <th>order_estimated_delivery_date</th>\n",
       "      <th>purchase_year_month</th>\n",
       "      <th>seller_id</th>\n",
       "      <th>product_id</th>\n",
       "      <th>product_category_english</th>\n",
       "      <th>price</th>\n",
       "      <th>payment_type</th>\n",
       "      <th>payment_value</th>\n",
       "      <th>payment_installments</th>\n",
       "      <th>review_score</th>\n",
       "      <th>review_comment_message</th>\n",
       "    </tr>\n",
       "  </thead>\n",
       "  <tbody>\n",
       "    <tr>\n",
       "      <th>14726</th>\n",
       "      <td>03c939fd7fd3b38f8485a0f95798f1f6</td>\n",
       "      <td>2a35ad9f439dfc62d35a0202e71d6c66</td>\n",
       "      <td>delivered</td>\n",
       "      <td>2018-02-25 21:01:08</td>\n",
       "      <td>2018-02-26 09:35:46</td>\n",
       "      <td>2018-02-26 22:46:40</td>\n",
       "      <td>2018-03-19 21:48:52</td>\n",
       "      <td>2018-04-02</td>\n",
       "      <td>2018-02</td>\n",
       "      <td>d91fb3b7d041e83b64a00a3edfb37e4f</td>\n",
       "      <td>ab5da1daa941470d14366f4e76a99dd2</td>\n",
       "      <td>home_appliances</td>\n",
       "      <td>26.0</td>\n",
       "      <td>voucher</td>\n",
       "      <td>42.11</td>\n",
       "      <td>1</td>\n",
       "      <td>3.0</td>\n",
       "      <td>Um ponto negativo que achei foi a cobrança de ...</td>\n",
       "    </tr>\n",
       "    <tr>\n",
       "      <th>14727</th>\n",
       "      <td>03c939fd7fd3b38f8485a0f95798f1f6</td>\n",
       "      <td>2a35ad9f439dfc62d35a0202e71d6c66</td>\n",
       "      <td>delivered</td>\n",
       "      <td>2018-02-25 21:01:08</td>\n",
       "      <td>2018-02-26 09:35:46</td>\n",
       "      <td>2018-02-26 22:46:40</td>\n",
       "      <td>2018-03-19 21:48:52</td>\n",
       "      <td>2018-04-02</td>\n",
       "      <td>2018-02</td>\n",
       "      <td>d91fb3b7d041e83b64a00a3edfb37e4f</td>\n",
       "      <td>ab5da1daa941470d14366f4e76a99dd2</td>\n",
       "      <td>home_appliances</td>\n",
       "      <td>26.0</td>\n",
       "      <td>voucher</td>\n",
       "      <td>42.11</td>\n",
       "      <td>1</td>\n",
       "      <td>4.0</td>\n",
       "      <td>NaN</td>\n",
       "    </tr>\n",
       "    <tr>\n",
       "      <th>14728</th>\n",
       "      <td>03c939fd7fd3b38f8485a0f95798f1f6</td>\n",
       "      <td>2a35ad9f439dfc62d35a0202e71d6c66</td>\n",
       "      <td>delivered</td>\n",
       "      <td>2018-02-25 21:01:08</td>\n",
       "      <td>2018-02-26 09:35:46</td>\n",
       "      <td>2018-02-26 22:46:40</td>\n",
       "      <td>2018-03-19 21:48:52</td>\n",
       "      <td>2018-04-02</td>\n",
       "      <td>2018-02</td>\n",
       "      <td>d91fb3b7d041e83b64a00a3edfb37e4f</td>\n",
       "      <td>ab5da1daa941470d14366f4e76a99dd2</td>\n",
       "      <td>home_appliances</td>\n",
       "      <td>26.0</td>\n",
       "      <td>voucher</td>\n",
       "      <td>42.11</td>\n",
       "      <td>1</td>\n",
       "      <td>3.0</td>\n",
       "      <td>Seria ótimo se tivesem entregue os 3 (três) pe...</td>\n",
       "    </tr>\n",
       "  </tbody>\n",
       "</table>\n",
       "</div>"
      ],
      "text/plain": [
       "                               order_id                       customer_id  \\\n",
       "14726  03c939fd7fd3b38f8485a0f95798f1f6  2a35ad9f439dfc62d35a0202e71d6c66   \n",
       "14727  03c939fd7fd3b38f8485a0f95798f1f6  2a35ad9f439dfc62d35a0202e71d6c66   \n",
       "14728  03c939fd7fd3b38f8485a0f95798f1f6  2a35ad9f439dfc62d35a0202e71d6c66   \n",
       "\n",
       "      order_status order_purchase_timestamp   order_approved_at  \\\n",
       "14726    delivered      2018-02-25 21:01:08 2018-02-26 09:35:46   \n",
       "14727    delivered      2018-02-25 21:01:08 2018-02-26 09:35:46   \n",
       "14728    delivered      2018-02-25 21:01:08 2018-02-26 09:35:46   \n",
       "\n",
       "      order_delivered_carrier_date order_delivered_customer_date  \\\n",
       "14726          2018-02-26 22:46:40           2018-03-19 21:48:52   \n",
       "14727          2018-02-26 22:46:40           2018-03-19 21:48:52   \n",
       "14728          2018-02-26 22:46:40           2018-03-19 21:48:52   \n",
       "\n",
       "      order_estimated_delivery_date purchase_year_month  \\\n",
       "14726                    2018-04-02             2018-02   \n",
       "14727                    2018-04-02             2018-02   \n",
       "14728                    2018-04-02             2018-02   \n",
       "\n",
       "                              seller_id                        product_id  \\\n",
       "14726  d91fb3b7d041e83b64a00a3edfb37e4f  ab5da1daa941470d14366f4e76a99dd2   \n",
       "14727  d91fb3b7d041e83b64a00a3edfb37e4f  ab5da1daa941470d14366f4e76a99dd2   \n",
       "14728  d91fb3b7d041e83b64a00a3edfb37e4f  ab5da1daa941470d14366f4e76a99dd2   \n",
       "\n",
       "      product_category_english  price payment_type  payment_value  \\\n",
       "14726          home_appliances   26.0      voucher          42.11   \n",
       "14727          home_appliances   26.0      voucher          42.11   \n",
       "14728          home_appliances   26.0      voucher          42.11   \n",
       "\n",
       "       payment_installments  review_score  \\\n",
       "14726                     1           3.0   \n",
       "14727                     1           4.0   \n",
       "14728                     1           3.0   \n",
       "\n",
       "                                  review_comment_message  \n",
       "14726  Um ponto negativo que achei foi a cobrança de ...  \n",
       "14727                                                NaN  \n",
       "14728  Seria ótimo se tivesem entregue os 3 (três) pe...  "
      ]
     },
     "execution_count": 52,
     "metadata": {},
     "output_type": "execute_result"
    }
   ],
   "source": [
    "# Mengetahui 1 order_id memiliki review_score dan review_comment_message berbeda-beda\n",
    "orders[orders['order_id']=='03c939fd7fd3b38f8485a0f95798f1f6']"
   ]
  },
  {
   "cell_type": "code",
   "execution_count": 53,
   "metadata": {},
   "outputs": [
    {
     "data": {
      "text/plain": [
       "product_id\n",
       "99a4788cb24856965c36a24e339b6058    9\n",
       "7c1bd920dbdf22470b68bde975dd3ccf    4\n",
       "84f456958365164420cfc80fbe4c7fab    4\n",
       "42a2c92a0979a949ca4ea89ec5c7b934    4\n",
       "a92930c327948861c015c919a0bcb4a8    4\n",
       "Name: count, dtype: int64"
      ]
     },
     "execution_count": 53,
     "metadata": {},
     "output_type": "execute_result"
    }
   ],
   "source": [
    "# Mengecek null value review_score berdasarkan product_id\n",
    "cek_rvw = orders[orders['review_score'].isnull()][['order_id','product_id']]\n",
    "cek_rvw.drop_duplicates(keep='first', inplace=True)\n",
    "cek_rvw['product_id'].value_counts().nlargest(5)"
   ]
  },
  {
   "cell_type": "code",
   "execution_count": 54,
   "metadata": {},
   "outputs": [
    {
     "data": {
      "text/plain": [
       "725"
      ]
     },
     "execution_count": 54,
     "metadata": {},
     "output_type": "execute_result"
    }
   ],
   "source": [
    "orders[orders['review_score'].isnull()]['product_id'].nunique()"
   ]
  },
  {
   "cell_type": "code",
   "execution_count": 55,
   "metadata": {},
   "outputs": [
    {
     "data": {
      "text/plain": [
       "product_id\n",
       "aca2eb7d00ea1a7b8ebd4e68314663af    282\n",
       "99a4788cb24856965c36a24e339b6058    245\n",
       "53b36df67ebb7c41585e8d54d6772e08    202\n",
       "422879e10f46682990de24d770e7f83d    195\n",
       "d1c427060a0f73f6b889a5c7c61f2ac4    186\n",
       "Name: count, dtype: int64"
      ]
     },
     "execution_count": 55,
     "metadata": {},
     "output_type": "execute_result"
    }
   ],
   "source": [
    "# Mengecek null value review_comment_message berdasarkan product_id\n",
    "cek_rvw = orders[orders['review_comment_message'].isnull()][['order_id','product_id']]\n",
    "cek_rvw.drop_duplicates(keep='first', inplace=True)\n",
    "cek_rvw['product_id'].value_counts().nlargest(5)"
   ]
  },
  {
   "cell_type": "code",
   "execution_count": 56,
   "metadata": {},
   "outputs": [
    {
     "data": {
      "text/plain": [
       "23444"
      ]
     },
     "execution_count": 56,
     "metadata": {},
     "output_type": "execute_result"
    }
   ],
   "source": [
    "orders[orders['review_comment_message'].isnull()]['product_id'].nunique()"
   ]
  },
  {
   "cell_type": "markdown",
   "metadata": {
    "id": "Q_5ejIqckiSP"
   },
   "source": [
    "**Insight:**\n",
    "- Melakukan assesing dan cleaning data agar data lebih akurat dan tepat guna untuk mendapatkan solusi/insight bisnis yang diminta\n",
    "- Merging data order_items, payments, reviews ke dalam dataframe orders, agar proses filtering data lebih cepat\n",
    "- Null value pada skor rating maupun komentar review dibiarkan apa adanya, tidak bisa dipaksakan memiliki value tertentu"
   ]
  },
  {
   "cell_type": "markdown",
   "metadata": {
    "id": "gp-Y6wU38DC1"
   },
   "source": [
    "## Exploratory Data Analysis (EDA)"
   ]
  },
  {
   "cell_type": "markdown",
   "metadata": {
    "id": "MW7WF2kr8DC1"
   },
   "source": [
    "### Eksplorasi rating pada pengiriman dan kategori produk "
   ]
  },
  {
   "cell_type": "code",
   "execution_count": 60,
   "metadata": {},
   "outputs": [
    {
     "data": {
      "text/plain": [
       "order_purchase_timestamp         0\n",
       "order_delivered_customer_date    0\n",
       "order_estimated_delivery_date    0\n",
       "dtype: int64"
      ]
     },
     "execution_count": 60,
     "metadata": {},
     "output_type": "execute_result"
    }
   ],
   "source": [
    "orders[['order_purchase_timestamp','order_delivered_customer_date','order_estimated_delivery_date']].isnull().sum()"
   ]
  },
  {
   "cell_type": "code",
   "execution_count": 61,
   "metadata": {
    "id": "e9CQCZjk8DC2"
   },
   "outputs": [],
   "source": [
    "# Menghitung lama waktu/hari produk diterima customer setelah melakukan pembayaran\n",
    "orders['delivery_days'] = (orders['order_delivered_customer_date'] - orders['order_purchase_timestamp']).dt.days\n",
    "\n",
    "# Menghitung keterlambatan waktu/hari antara tanggal produk diterima customer dan estimasi tanggal penerimaan produk\n",
    "orders['delivery_delay'] = (orders['order_delivered_customer_date'] - orders['order_estimated_delivery_date']).dt.days"
   ]
  },
  {
   "cell_type": "code",
   "execution_count": 62,
   "metadata": {},
   "outputs": [
    {
     "data": {
      "text/plain": [
       "delivery_days\n",
       "7    9180\n",
       "6    8161\n",
       "8    8149\n",
       "9    7273\n",
       "5    7023\n",
       "Name: count, dtype: int64"
      ]
     },
     "execution_count": 62,
     "metadata": {},
     "output_type": "execute_result"
    }
   ],
   "source": [
    "# Menghitung banyak value delivery days, urut dari yang terbanyak yaitu 7 hari\n",
    "orders['delivery_days'].value_counts().sort_values(ascending=False).head()"
   ]
  },
  {
   "cell_type": "code",
   "execution_count": 63,
   "metadata": {},
   "outputs": [
    {
     "data": {
      "text/plain": [
       "review_score\n",
       "1.0    16.0\n",
       "2.0    13.0\n",
       "3.0    12.0\n",
       "4.0    10.0\n",
       "5.0     9.0\n",
       "Name: delivery_days, dtype: float64"
      ]
     },
     "execution_count": 63,
     "metadata": {},
     "output_type": "execute_result"
    }
   ],
   "source": [
    "# Menghitung nilai tengah delivery days pada tiap review_score\n",
    "orders.groupby('review_score')['delivery_days'].median()"
   ]
  },
  {
   "cell_type": "code",
   "execution_count": 64,
   "metadata": {},
   "outputs": [],
   "source": [
    "# Membuat pivot dataframe dengan menormalkan setiap baris. Ini berarti bahwa untuk setiap baris, jumlah nilainya akan sama dengan 1.\n",
    "review_dist = pd.crosstab(\n",
    "    orders['product_category_english'],\n",
    "    orders['review_score'],\n",
    "    normalize='index')\n",
    "\n",
    "# Menambah 2 kolom baru yaitu ulasan buruk dan ulasan baik, berisi hasil penjumlahan sesuai review_score yang ditentukan pada tiap kategori produk\n",
    "review_dist['bad_share'] = review_dist[[1.0, 2.0, 3.0]].sum(axis=1)\n",
    "review_dist['good_share'] = review_dist[[4.0, 5.0]].sum(axis=1)"
   ]
  },
  {
   "cell_type": "code",
   "execution_count": 65,
   "metadata": {},
   "outputs": [],
   "source": [
    "# Menghitung banyak nilai masing-masing product_category_english\n",
    "category_counts = orders['product_category_english'].value_counts()\n",
    "\n",
    "# Ambil index yaitu nama product_category_english saja yang memiliki jumlah pesanan diatas 100\n",
    "valid_categories = category_counts[category_counts > 100].index\n",
    "\n",
    "# Ambil nilai review_dist pada product_category_english yang telah diambil barusan\n",
    "filtered_reviews = review_dist.loc[valid_categories]"
   ]
  },
  {
   "cell_type": "code",
   "execution_count": 66,
   "metadata": {},
   "outputs": [],
   "source": [
    "# Mengambil 10 product_category_english teratas dengan ulasan buruk\n",
    "top_bad = filtered_reviews.sort_values(by='bad_share', ascending=False).head(10)\n",
    "\n",
    "# Mengambil 10 product_category_english teratas dengan ulasan baik\n",
    "top_good = filtered_reviews.sort_values(by='good_share', ascending=False).head(10)"
   ]
  },
  {
   "cell_type": "code",
   "execution_count": 67,
   "metadata": {},
   "outputs": [
    {
     "data": {
      "text/html": [
       "<div>\n",
       "<style scoped>\n",
       "    .dataframe tbody tr th:only-of-type {\n",
       "        vertical-align: middle;\n",
       "    }\n",
       "\n",
       "    .dataframe tbody tr th {\n",
       "        vertical-align: top;\n",
       "    }\n",
       "\n",
       "    .dataframe thead th {\n",
       "        text-align: right;\n",
       "    }\n",
       "</style>\n",
       "<table border=\"1\" class=\"dataframe\">\n",
       "  <thead>\n",
       "    <tr style=\"text-align: right;\">\n",
       "      <th>review_score</th>\n",
       "      <th>1.0</th>\n",
       "      <th>2.0</th>\n",
       "      <th>3.0</th>\n",
       "      <th>4.0</th>\n",
       "      <th>5.0</th>\n",
       "      <th>bad_share</th>\n",
       "      <th>good_share</th>\n",
       "    </tr>\n",
       "    <tr>\n",
       "      <th>product_category_english</th>\n",
       "      <th></th>\n",
       "      <th></th>\n",
       "      <th></th>\n",
       "      <th></th>\n",
       "      <th></th>\n",
       "      <th></th>\n",
       "      <th></th>\n",
       "    </tr>\n",
       "  </thead>\n",
       "  <tbody>\n",
       "    <tr>\n",
       "      <th>office_furniture</th>\n",
       "      <td>0.203046</td>\n",
       "      <td>0.050761</td>\n",
       "      <td>0.142132</td>\n",
       "      <td>0.224478</td>\n",
       "      <td>0.379583</td>\n",
       "      <td>0.395939</td>\n",
       "      <td>0.604061</td>\n",
       "    </tr>\n",
       "    <tr>\n",
       "      <th>fashion_male_clothing</th>\n",
       "      <td>0.277778</td>\n",
       "      <td>0.034722</td>\n",
       "      <td>0.048611</td>\n",
       "      <td>0.138889</td>\n",
       "      <td>0.500000</td>\n",
       "      <td>0.361111</td>\n",
       "      <td>0.638889</td>\n",
       "    </tr>\n",
       "    <tr>\n",
       "      <th>fixed_telephony</th>\n",
       "      <td>0.197026</td>\n",
       "      <td>0.063197</td>\n",
       "      <td>0.070632</td>\n",
       "      <td>0.208178</td>\n",
       "      <td>0.460967</td>\n",
       "      <td>0.330855</td>\n",
       "      <td>0.669145</td>\n",
       "    </tr>\n",
       "    <tr>\n",
       "      <th>audio</th>\n",
       "      <td>0.164456</td>\n",
       "      <td>0.050398</td>\n",
       "      <td>0.098143</td>\n",
       "      <td>0.153846</td>\n",
       "      <td>0.533156</td>\n",
       "      <td>0.312997</td>\n",
       "      <td>0.687003</td>\n",
       "    </tr>\n",
       "    <tr>\n",
       "      <th>home_confort</th>\n",
       "      <td>0.151261</td>\n",
       "      <td>0.033613</td>\n",
       "      <td>0.126050</td>\n",
       "      <td>0.134454</td>\n",
       "      <td>0.554622</td>\n",
       "      <td>0.310924</td>\n",
       "      <td>0.689076</td>\n",
       "    </tr>\n",
       "    <tr>\n",
       "      <th>bed_bath_table</th>\n",
       "      <td>0.145522</td>\n",
       "      <td>0.047438</td>\n",
       "      <td>0.098422</td>\n",
       "      <td>0.188149</td>\n",
       "      <td>0.520469</td>\n",
       "      <td>0.291382</td>\n",
       "      <td>0.708618</td>\n",
       "    </tr>\n",
       "    <tr>\n",
       "      <th>furniture_living_room</th>\n",
       "      <td>0.132184</td>\n",
       "      <td>0.047893</td>\n",
       "      <td>0.109195</td>\n",
       "      <td>0.195402</td>\n",
       "      <td>0.515326</td>\n",
       "      <td>0.289272</td>\n",
       "      <td>0.710728</td>\n",
       "    </tr>\n",
       "    <tr>\n",
       "      <th>construction_tools_safety</th>\n",
       "      <td>0.176768</td>\n",
       "      <td>0.025253</td>\n",
       "      <td>0.085859</td>\n",
       "      <td>0.196970</td>\n",
       "      <td>0.515152</td>\n",
       "      <td>0.287879</td>\n",
       "      <td>0.712121</td>\n",
       "    </tr>\n",
       "    <tr>\n",
       "      <th>unknown</th>\n",
       "      <td>0.179070</td>\n",
       "      <td>0.037791</td>\n",
       "      <td>0.070930</td>\n",
       "      <td>0.194767</td>\n",
       "      <td>0.517442</td>\n",
       "      <td>0.287791</td>\n",
       "      <td>0.712209</td>\n",
       "    </tr>\n",
       "    <tr>\n",
       "      <th>furniture_decor</th>\n",
       "      <td>0.149034</td>\n",
       "      <td>0.044607</td>\n",
       "      <td>0.088871</td>\n",
       "      <td>0.180144</td>\n",
       "      <td>0.537344</td>\n",
       "      <td>0.282512</td>\n",
       "      <td>0.717488</td>\n",
       "    </tr>\n",
       "  </tbody>\n",
       "</table>\n",
       "</div>"
      ],
      "text/plain": [
       "review_score                    1.0       2.0       3.0       4.0       5.0  \\\n",
       "product_category_english                                                      \n",
       "office_furniture           0.203046  0.050761  0.142132  0.224478  0.379583   \n",
       "fashion_male_clothing      0.277778  0.034722  0.048611  0.138889  0.500000   \n",
       "fixed_telephony            0.197026  0.063197  0.070632  0.208178  0.460967   \n",
       "audio                      0.164456  0.050398  0.098143  0.153846  0.533156   \n",
       "home_confort               0.151261  0.033613  0.126050  0.134454  0.554622   \n",
       "bed_bath_table             0.145522  0.047438  0.098422  0.188149  0.520469   \n",
       "furniture_living_room      0.132184  0.047893  0.109195  0.195402  0.515326   \n",
       "construction_tools_safety  0.176768  0.025253  0.085859  0.196970  0.515152   \n",
       "unknown                    0.179070  0.037791  0.070930  0.194767  0.517442   \n",
       "furniture_decor            0.149034  0.044607  0.088871  0.180144  0.537344   \n",
       "\n",
       "review_score               bad_share  good_share  \n",
       "product_category_english                          \n",
       "office_furniture            0.395939    0.604061  \n",
       "fashion_male_clothing       0.361111    0.638889  \n",
       "fixed_telephony             0.330855    0.669145  \n",
       "audio                       0.312997    0.687003  \n",
       "home_confort                0.310924    0.689076  \n",
       "bed_bath_table              0.291382    0.708618  \n",
       "furniture_living_room       0.289272    0.710728  \n",
       "construction_tools_safety   0.287879    0.712121  \n",
       "unknown                     0.287791    0.712209  \n",
       "furniture_decor             0.282512    0.717488  "
      ]
     },
     "execution_count": 67,
     "metadata": {},
     "output_type": "execute_result"
    }
   ],
   "source": [
    "# Menampilkan 10 product_category_english teratas dengan ulasan buruk\n",
    "top_bad"
   ]
  },
  {
   "cell_type": "code",
   "execution_count": 68,
   "metadata": {},
   "outputs": [
    {
     "data": {
      "text/html": [
       "<div>\n",
       "<style scoped>\n",
       "    .dataframe tbody tr th:only-of-type {\n",
       "        vertical-align: middle;\n",
       "    }\n",
       "\n",
       "    .dataframe tbody tr th {\n",
       "        vertical-align: top;\n",
       "    }\n",
       "\n",
       "    .dataframe thead th {\n",
       "        text-align: right;\n",
       "    }\n",
       "</style>\n",
       "<table border=\"1\" class=\"dataframe\">\n",
       "  <thead>\n",
       "    <tr style=\"text-align: right;\">\n",
       "      <th>review_score</th>\n",
       "      <th>1.0</th>\n",
       "      <th>2.0</th>\n",
       "      <th>3.0</th>\n",
       "      <th>4.0</th>\n",
       "      <th>5.0</th>\n",
       "      <th>bad_share</th>\n",
       "      <th>good_share</th>\n",
       "    </tr>\n",
       "    <tr>\n",
       "      <th>product_category_english</th>\n",
       "      <th></th>\n",
       "      <th></th>\n",
       "      <th></th>\n",
       "      <th></th>\n",
       "      <th></th>\n",
       "      <th></th>\n",
       "      <th></th>\n",
       "    </tr>\n",
       "  </thead>\n",
       "  <tbody>\n",
       "    <tr>\n",
       "      <th>costruction_tools_tools</th>\n",
       "      <td>0.089109</td>\n",
       "      <td>0.000000</td>\n",
       "      <td>0.009901</td>\n",
       "      <td>0.207921</td>\n",
       "      <td>0.693069</td>\n",
       "      <td>0.099010</td>\n",
       "      <td>0.900990</td>\n",
       "    </tr>\n",
       "    <tr>\n",
       "      <th>books_general_interest</th>\n",
       "      <td>0.073084</td>\n",
       "      <td>0.014260</td>\n",
       "      <td>0.037433</td>\n",
       "      <td>0.151515</td>\n",
       "      <td>0.723708</td>\n",
       "      <td>0.124777</td>\n",
       "      <td>0.875223</td>\n",
       "    </tr>\n",
       "    <tr>\n",
       "      <th>books_technical</th>\n",
       "      <td>0.081784</td>\n",
       "      <td>0.026022</td>\n",
       "      <td>0.037175</td>\n",
       "      <td>0.144981</td>\n",
       "      <td>0.710037</td>\n",
       "      <td>0.144981</td>\n",
       "      <td>0.855019</td>\n",
       "    </tr>\n",
       "    <tr>\n",
       "      <th>luggage_accessories</th>\n",
       "      <td>0.080242</td>\n",
       "      <td>0.021570</td>\n",
       "      <td>0.065574</td>\n",
       "      <td>0.187230</td>\n",
       "      <td>0.645384</td>\n",
       "      <td>0.167386</td>\n",
       "      <td>0.832614</td>\n",
       "    </tr>\n",
       "    <tr>\n",
       "      <th>food</th>\n",
       "      <td>0.101761</td>\n",
       "      <td>0.025440</td>\n",
       "      <td>0.050881</td>\n",
       "      <td>0.185910</td>\n",
       "      <td>0.636008</td>\n",
       "      <td>0.178082</td>\n",
       "      <td>0.821918</td>\n",
       "    </tr>\n",
       "    <tr>\n",
       "      <th>food_drink</th>\n",
       "      <td>0.062069</td>\n",
       "      <td>0.017241</td>\n",
       "      <td>0.100000</td>\n",
       "      <td>0.175862</td>\n",
       "      <td>0.644828</td>\n",
       "      <td>0.179310</td>\n",
       "      <td>0.820690</td>\n",
       "    </tr>\n",
       "    <tr>\n",
       "      <th>computers</th>\n",
       "      <td>0.115207</td>\n",
       "      <td>0.009217</td>\n",
       "      <td>0.055300</td>\n",
       "      <td>0.216590</td>\n",
       "      <td>0.603687</td>\n",
       "      <td>0.179724</td>\n",
       "      <td>0.820276</td>\n",
       "    </tr>\n",
       "    <tr>\n",
       "      <th>home_appliances_2</th>\n",
       "      <td>0.078358</td>\n",
       "      <td>0.033582</td>\n",
       "      <td>0.074627</td>\n",
       "      <td>0.223881</td>\n",
       "      <td>0.589552</td>\n",
       "      <td>0.186567</td>\n",
       "      <td>0.813433</td>\n",
       "    </tr>\n",
       "    <tr>\n",
       "      <th>agro_industry_and_commerce</th>\n",
       "      <td>0.107143</td>\n",
       "      <td>0.027778</td>\n",
       "      <td>0.055556</td>\n",
       "      <td>0.226190</td>\n",
       "      <td>0.583333</td>\n",
       "      <td>0.190476</td>\n",
       "      <td>0.809524</td>\n",
       "    </tr>\n",
       "    <tr>\n",
       "      <th>fashion_shoes</th>\n",
       "      <td>0.095238</td>\n",
       "      <td>0.032967</td>\n",
       "      <td>0.065934</td>\n",
       "      <td>0.164835</td>\n",
       "      <td>0.641026</td>\n",
       "      <td>0.194139</td>\n",
       "      <td>0.805861</td>\n",
       "    </tr>\n",
       "  </tbody>\n",
       "</table>\n",
       "</div>"
      ],
      "text/plain": [
       "review_score                     1.0       2.0       3.0       4.0       5.0  \\\n",
       "product_category_english                                                       \n",
       "costruction_tools_tools     0.089109  0.000000  0.009901  0.207921  0.693069   \n",
       "books_general_interest      0.073084  0.014260  0.037433  0.151515  0.723708   \n",
       "books_technical             0.081784  0.026022  0.037175  0.144981  0.710037   \n",
       "luggage_accessories         0.080242  0.021570  0.065574  0.187230  0.645384   \n",
       "food                        0.101761  0.025440  0.050881  0.185910  0.636008   \n",
       "food_drink                  0.062069  0.017241  0.100000  0.175862  0.644828   \n",
       "computers                   0.115207  0.009217  0.055300  0.216590  0.603687   \n",
       "home_appliances_2           0.078358  0.033582  0.074627  0.223881  0.589552   \n",
       "agro_industry_and_commerce  0.107143  0.027778  0.055556  0.226190  0.583333   \n",
       "fashion_shoes               0.095238  0.032967  0.065934  0.164835  0.641026   \n",
       "\n",
       "review_score                bad_share  good_share  \n",
       "product_category_english                           \n",
       "costruction_tools_tools      0.099010    0.900990  \n",
       "books_general_interest       0.124777    0.875223  \n",
       "books_technical              0.144981    0.855019  \n",
       "luggage_accessories          0.167386    0.832614  \n",
       "food                         0.178082    0.821918  \n",
       "food_drink                   0.179310    0.820690  \n",
       "computers                    0.179724    0.820276  \n",
       "home_appliances_2            0.186567    0.813433  \n",
       "agro_industry_and_commerce   0.190476    0.809524  \n",
       "fashion_shoes                0.194139    0.805861  "
      ]
     },
     "execution_count": 68,
     "metadata": {},
     "output_type": "execute_result"
    }
   ],
   "source": [
    "# Menampilkan 10 product_category_english teratas dengan ulasan baik\n",
    "top_good"
   ]
  },
  {
   "cell_type": "markdown",
   "metadata": {
    "id": "th_Lzl2Fkj9O"
   },
   "source": [
    "**Insight:**\n",
    "\n",
    "- Delivery days terbanyak adalah 7 hari. Semakin besar delivery days maka semakin kecil skor rating yang diberikan.\n",
    "- Dalam hal ketidakpuasan pelanggan (skor rating 1,2,3) meliputi perabot kantor, pakaian pria, dan telepon rumah. Sementara itu, pelanggan secara konsisten menilai perkakas, buku, dan koper dengan baik (skor rating 4 dan 5). Hasil ini memberikan dasar yang kuat untuk analisis lebih lanjut, terutama terkait kondisi item, faktor pengiriman dan pembayaran yang mungkin mendorong perbedaan kepuasan ini."
   ]
  },
  {
   "cell_type": "markdown",
   "metadata": {},
   "source": [
    "### Eksplorasi Tipe Pembayaran"
   ]
  },
  {
   "cell_type": "code",
   "execution_count": 71,
   "metadata": {},
   "outputs": [
    {
     "data": {
      "text/plain": [
       "0"
      ]
     },
     "execution_count": 71,
     "metadata": {},
     "output_type": "execute_result"
    }
   ],
   "source": [
    "orders['payment_type'].isnull().sum()"
   ]
  },
  {
   "cell_type": "code",
   "execution_count": 72,
   "metadata": {},
   "outputs": [
    {
     "data": {
      "text/plain": [
       "array(['credit_card', 'voucher', 'boleto', 'debit_card', 'not_defined'],\n",
       "      dtype=object)"
      ]
     },
     "execution_count": 72,
     "metadata": {},
     "output_type": "execute_result"
    }
   ],
   "source": [
    "# Melihat macam-macam tipe pembayaran\n",
    "orders['payment_type'].unique()"
   ]
  },
  {
   "cell_type": "code",
   "execution_count": 73,
   "metadata": {},
   "outputs": [
    {
     "data": {
      "text/plain": [
       "payment_type\n",
       "credit_card    73.67\n",
       "boleto         19.46\n",
       "voucher         5.43\n",
       "debit_card      1.43\n",
       "Name: proportion, dtype: float64"
      ]
     },
     "execution_count": 73,
     "metadata": {},
     "output_type": "execute_result"
    }
   ],
   "source": [
    "# Distribusi tipe pembayaran dalam %\n",
    "payment_type_share = orders['payment_type'].value_counts(normalize=True).nlargest(4)\n",
    "payment_type_share = (payment_type_share*100).round(2)\n",
    "payment_type_share"
   ]
  },
  {
   "cell_type": "code",
   "execution_count": 74,
   "metadata": {},
   "outputs": [
    {
     "data": {
      "text/plain": [
       "payment_type\n",
       "credit_card    180.0\n",
       "boleto         177.0\n",
       "debit_card     151.0\n",
       "voucher         67.0\n",
       "Name: payment_value, dtype: float64"
      ]
     },
     "execution_count": 74,
     "metadata": {},
     "output_type": "execute_result"
    }
   ],
   "source": [
    "# Menghitung rata-rata payment_value tiap payment_type\n",
    "mean_payment = orders.groupby('payment_type')['payment_value'].mean().round().nlargest(4)\n",
    "mean_payment"
   ]
  },
  {
   "cell_type": "code",
   "execution_count": 75,
   "metadata": {},
   "outputs": [
    {
     "name": "stdout",
     "output_type": "stream",
     "text": [
      "The proportion of installment orders: 50.10%\n"
     ]
    }
   ],
   "source": [
    "# Menghitung persentase installment orders\n",
    "installment_ratio = (orders['payment_installments'] > 1).mean() * 100\n",
    "print(f'The proportion of installment orders: {installment_ratio:.2f}%')"
   ]
  },
  {
   "cell_type": "code",
   "execution_count": 76,
   "metadata": {},
   "outputs": [
    {
     "data": {
      "text/plain": [
       "product_category_english\n",
       "computers                                75.0\n",
       "la_cuisine                               69.0\n",
       "furniture_mattress_and_upholstery        66.0\n",
       "small_appliances_home_oven_and_coffee    65.0\n",
       "watches_gifts                            65.0\n",
       "diapers_and_hygiene                      62.0\n",
       "bed_bath_table                           60.0\n",
       "fashio_female_clothing                   60.0\n",
       "fashion_shoes                            59.0\n",
       "home_confort                             59.0\n",
       "Name: payment_installments, dtype: float64"
      ]
     },
     "execution_count": 76,
     "metadata": {},
     "output_type": "execute_result"
    }
   ],
   "source": [
    "# Menghitung persentase rata-rata installment value tiap kategori produk\n",
    "installment_by_category = orders.groupby('product_category_english')['payment_installments'].apply(lambda x: (x > 1).mean()).nlargest(10)\n",
    "installment_top_categories = (installment_by_category*100).round()\n",
    "installment_top_categories"
   ]
  },
  {
   "cell_type": "markdown",
   "metadata": {
    "id": "th_Lzl2Fkj9O"
   },
   "source": [
    "**Insight:**\n",
    "- Credit card mendominasi, mencakup 73,67% dari semua pembayaran. Metode terpopuler kedua, boleto, tertinggal jauh di belakang dengan 19,46%, diikuti oleh voucher (5,43%) dan kartu debit (1,43%).\n",
    "- Pembayaran cicilan merupakan hal yang lumrah. Lebih dari setengah dari semua transaksi kartu kredit (50,10%) dibayar dengan cicilan, yang secara efektif mengaburkan batasan antara keterjangkauan dan pengeluaran yang tertunda.\n",
    "- Pembayaran cicilan ini khususnya terlihat pada kategori barang mahal atau yang memiliki aspirasi tinggi seperti PC (tingkat cicilan 75%)"
   ]
  },
  {
   "cell_type": "markdown",
   "metadata": {
    "id": "zsyZjqak8DC2"
   },
   "source": [
    "## Visualization & Explanatory Analysis"
   ]
  },
  {
   "cell_type": "markdown",
   "metadata": {
    "id": "HZxOiQ6n8DC2"
   },
   "source": [
    "### Pertanyaan 1: Faktor apa yang jadi penentu customer dalam memberikan rating maupun review?"
   ]
  },
  {
   "cell_type": "code",
   "execution_count": 80,
   "metadata": {},
   "outputs": [
    {
     "data": {
      "image/png": "[encoded data removed]",
      "text/plain": [
       "<Figure size 400x400 with 1 Axes>"
      ]
     },
     "metadata": {},
     "output_type": "display_data"
    }
   ],
   "source": [
    "# Distribusi review_score dalam %\n",
    "score_counts = orders['review_score'].value_counts().sort_index()\n",
    "\n",
    "plt.figure(figsize=(4, 4), dpi=100)\n",
    "\n",
    "#colors = ['deepskyblue', 'mediumaquamarine', 'plum', 'sandybrown', 'indianred'] \n",
    "colors = sns.color_palette('viridis', n_colors=len(score_counts))\n",
    "\n",
    "plt.pie(score_counts, labels=score_counts.index, autopct='%1.1f%%',\n",
    "        startangle=90, colors=colors, textprops={'fontsize': 10})\n",
    "\n",
    "plt.title('Share of reviews', fontsize=10, fontweight='bold', pad=5)\n",
    "plt.axis('equal');"
   ]
  },
  {
   "cell_type": "markdown",
   "metadata": {},
   "source": [
    "**Insight:**\n",
    "- Sebagian besar customer memberi penilaian pesanannya dengan skor rating 5 dengan persentase 56,2%\n"
   ]
  },
  {
   "cell_type": "code",
   "execution_count": 82,
   "metadata": {},
   "outputs": [],
   "source": [
    "# Menghitung total review_id setiap nilai review_score\n",
    "total_rev = reviews.groupby('review_score')['review_id'].count()\n",
    "\n",
    "# Menghitung banyaknya review_comment_message yang tidak terisi pada tiap review_score\n",
    "miss_rev = reviews[reviews['review_comment_message'].isnull()].groupby('review_score')['review_id'].count()\n",
    "\n",
    "# Menghitung persentase review_comment_message yang terisi\n",
    "res = 100 - (miss_rev / total_rev).fillna(0)*100"
   ]
  },
  {
   "cell_type": "code",
   "execution_count": 83,
   "metadata": {},
   "outputs": [
    {
     "data": {
      "image/png": "[encoded data removed]",
      "text/plain": [
       "<Figure size 600x400 with 1 Axes>"
      ]
     },
     "metadata": {},
     "output_type": "display_data"
    }
   ],
   "source": [
    "# Distribusi review_score yang terisi review_comment_message\n",
    "fig = plt.figure(figsize=(6, 4), dpi=100)\n",
    "ax = sns.barplot(x=res.index, y=res.values, palette='viridis')\n",
    "\n",
    "for i, v in enumerate(res.values):\n",
    "    ax.text(i, v + 2, f\"{v:.1f}%\", ha='center', fontsize=10, fontweight='bold')\n",
    "\n",
    "plt.title(\"Share of Reviews with Comments by Review Score\")\n",
    "plt.xlabel(\"Review Score\")\n",
    "plt.ylabel(\"Comment Share (%)\")\n",
    "plt.ylim(0, 100);"
   ]
  },
  {
   "cell_type": "markdown",
   "metadata": {},
   "source": [
    "**Insight:**\n",
    "- Pelanggan yang tidak puas (skor 1 dan 2) cenderung memberikan review terperinci dengan komentar masing-masing sebesar 76.5% dan 68.1% dari jumlah review, sedangkan pelanggan yang puas biasanya hanya memberikan peringkat"
   ]
  },
  {
   "cell_type": "code",
   "execution_count": 85,
   "metadata": {
    "id": "1swJUdAD8DC2"
   },
   "outputs": [
    {
     "data": {
      "image/png": "[encoded data removed]",
      "text/plain": [
       "<Figure size 1000x600 with 1 Axes>"
      ]
     },
     "metadata": {},
     "output_type": "display_data"
    }
   ],
   "source": [
    "# Distribusi review_score form terhadap delivery days\n",
    "plt.figure(figsize=(10,6))\n",
    "sns.boxplot(x=orders['review_score'], y=orders['delivery_days'], palette='viridis')\n",
    "plt.legend(bbox_to_anchor=(1.1, 0.88));"
   ]
  },
  {
   "cell_type": "markdown",
   "metadata": {},
   "source": [
    "**Insight:**\n",
    "- Waktu pengiriman memiliki dampak yang jelas pada kepuasan pelanggan. Pesanan dengan skor ulasan yang lebih rendah cenderung memiliki waktu pengiriman yang jauh lebih lama, pengiriman yang lebih cepat sangat berkorelasi dengan peringkat pelanggan yang lebih tinggi"
   ]
  },
  {
   "cell_type": "code",
   "execution_count": 87,
   "metadata": {},
   "outputs": [
    {
     "data": {
      "image/png": "[encoded data removed]",
      "text/plain": [
       "<Figure size 600x400 with 2 Axes>"
      ]
     },
     "metadata": {},
     "output_type": "display_data"
    }
   ],
   "source": [
    "plt.figure(figsize=(6, 4), dpi=100)\n",
    "sns.heatmap(top_good[[1.0, 2.0, 3.0, 4.0, 5.0]], annot=True, cmap='viridis', fmt='.2f')\n",
    "plt.title('Review Score Distribution – Top 10 Best Categories', fontsize=10, fontweight='bold')\n",
    "plt.ylabel('Product Category', fontsize=10, fontweight='bold')\n",
    "plt.xlabel('Review Score', fontsize=10, fontweight='bold')\n",
    "plt.tight_layout();"
   ]
  },
  {
   "cell_type": "code",
   "execution_count": 88,
   "metadata": {},
   "outputs": [
    {
     "data": {
      "image/png": "[encoded data removed]",
      "text/plain": [
       "<Figure size 600x400 with 2 Axes>"
      ]
     },
     "metadata": {},
     "output_type": "display_data"
    }
   ],
   "source": [
    "plt.figure(figsize=(6, 4), dpi=100)\n",
    "sns.heatmap(top_bad[[1.0, 2.0, 3.0, 4.0, 5.0]], annot=True, cmap='viridis', fmt='.2f')\n",
    "plt.title('Review Score Distribution – Top 10 Worst Categories', fontsize=10, fontweight='bold')\n",
    "plt.ylabel('Product Category', fontsize=10, fontweight='bold')\n",
    "plt.xlabel('Review Score', fontsize=10, fontweight='bold')\n",
    "plt.tight_layout();"
   ]
  },
  {
   "cell_type": "markdown",
   "metadata": {
    "id": "th_Lzl2Fkj9O"
   },
   "source": [
    "**Insight:**\n",
    "- Kategori produk dalam hal ketidakpuasan pelanggan — meliputi office furniture, fashion male clothing, dan fixed telephony. Sementara itu, pelanggan secara konsisten menilai construction tools, books general interest, dan books technical dengan skor rating baik. Hasil ini memberikan dasar yang kuat untuk analisis lebih lanjut yang mendorong perbedaan kepuasan ini."
   ]
  },
  {
   "cell_type": "markdown",
   "metadata": {
    "id": "DgHI7CiU8DC2"
   },
   "source": [
    "### Pertanyaan 2: Bagaimana customer behaviour pada metode pembayaran yang dilakukan?"
   ]
  },
  {
   "cell_type": "code",
   "execution_count": 91,
   "metadata": {},
   "outputs": [
    {
     "data": {
      "image/png": "[encoded data removed]",
      "text/plain": [
       "<Figure size 400x400 with 1 Axes>"
      ]
     },
     "metadata": {},
     "output_type": "display_data"
    }
   ],
   "source": [
    "# Distribusi tipe pembayaran dalam %\n",
    "plt.figure(figsize=(4, 4), dpi=100)\n",
    "\n",
    "#colors = ['deepskyblue', 'mediumaquamarine', 'plum', 'sandybrown', 'indianred'] \n",
    "colors = sns.color_palette('flare', n_colors=len(payment_type_share.index))\n",
    "\n",
    "plt.pie(payment_type_share.values, labels=payment_type_share.index, autopct='%1.1f%%',\n",
    "        startangle=0, colors=colors, textprops={'fontsize': 10})\n",
    "\n",
    "plt.title('Payment Type Distribution (%)', fontsize=10, fontweight='bold', pad=10)\n",
    "plt.axis('equal');"
   ]
  },
  {
   "cell_type": "markdown",
   "metadata": {},
   "source": [
    "**Insight:**\n",
    "- Credit card mendominasi, mencakup 73,67% dari semua pembayaran. Metode terpopuler kedua, boleto, tertinggal jauh di belakang dengan 19,46%, diikuti oleh voucher (5,43%) dan kartu debit (1,43%). Preferensi ini tidak hanya berbicara tentang akses tetapi juga fleksibilitas yang diharapkan konsumen"
   ]
  },
  {
   "cell_type": "code",
   "execution_count": 93,
   "metadata": {
    "id": "Go0lCsvO8DC2"
   },
   "outputs": [
    {
     "data": {
      "image/png": "[encoded data removed]",
      "text/plain": [
       "<Figure size 600x400 with 1 Axes>"
      ]
     },
     "metadata": {},
     "output_type": "display_data"
    }
   ],
   "source": [
    "# Visualisasi rata-rata payment_value pada tiap tipe pembayaran\n",
    "plt.figure(figsize=(6,4), dpi=100)\n",
    "\n",
    "sns.barplot(x=mean_payment.index, y=mean_payment.values, palette='flare')\n",
    "\n",
    "plt.title('Mean Payment Value (R$)', fontsize=10, fontweight='bold', pad=5)\n",
    "for i, v in enumerate(mean_payment.values):\n",
    "    plt.text(i, v + 1, f'R${v}', ha='center', fontsize=8, fontweight='bold')\n",
    "plt.yticks(range(0, int(mean_payment.max()) + 10, 30))\n",
    "plt.xticks(rotation=0, ha='center')\n",
    "plt.tight_layout();"
   ]
  },
  {
   "cell_type": "markdown",
   "metadata": {},
   "source": [
    "**Insight:**\n",
    "- Nilai pembayaran rata-rata memperkuat kesenjangan ini. Pengguna kartu kredit dan boleto membelanjakan uang dengan jumlah yang sama (masing-masing R180 dan R177), sementara pengguna kartu debit membelanjakan lebih sedikit (R151). Voucher menunjukkan nilai rata-rata terendah, hanya R67 — yang menunjukkan penggunaannya yang terbatas di segmen premium."
   ]
  },
  {
   "cell_type": "code",
   "execution_count": 95,
   "metadata": {},
   "outputs": [
    {
     "data": {
      "image/png": "[encoded data removed]",
      "text/plain": [
       "<Figure size 800x400 with 1 Axes>"
      ]
     },
     "metadata": {},
     "output_type": "display_data"
    }
   ],
   "source": [
    "# Top 10 kategori produk berdasarkan % rata-rata installment value\n",
    "plt.figure(figsize=(8,4), dpi=100)\n",
    "\n",
    "sns.barplot(x=installment_top_categories.values, y=installment_top_categories.index, palette='pastel', orient='h')\n",
    "\n",
    "plt.title('Top Categories by Installment Usage (%)', fontsize=10, fontweight='bold', pad=5)\n",
    "for i, v in enumerate(installment_top_categories.values):\n",
    "    plt.text(v + 1, i , f'{v}%', ha='center', fontsize=8, fontweight='bold')\n",
    "plt.xticks(range(0, int(installment_top_categories.max()) + 10, 25))\n",
    "plt.yticks(rotation=0)\n",
    "plt.tight_layout();"
   ]
  },
  {
   "cell_type": "markdown",
   "metadata": {
    "id": "_0-36BDLklRg"
   },
   "source": [
    "**Insight:**\n",
    "- Pembayaran cicilan ini khususnya terlihat pada kategori barang mahal atau yang memiliki aspirasi tinggi seperti PC (tingkat cicilan 75%), peralatan dapur, kasur, dan peralatan rumah tangga. Bahkan pada kategori mode dan hadiah, penggunaan cicilan sering kali melebihi 60%."
   ]
  },
  {
   "cell_type": "markdown",
   "metadata": {
    "id": "_WeHlCeX8DC2"
   },
   "source": [
    "## Conclusion"
   ]
  },
  {
   "cell_type": "markdown",
   "metadata": {
    "id": "ZTcyR48Y8DC2"
   },
   "source": [
    "- Conclusion pertanyaan 1 : Faktor apa yang jadi penentu customer dalam memberikan rating maupun review?\n",
    "\n",
    "    Waktu pengiriman memiliki dampak yang jelas pada kepuasan pelanggan. Pesanan dengan skor ulasan yang lebih rendah cenderung memiliki waktu pengiriman yang jauh lebih lama. Durasi pengiriman rata-rata turun secara konsisten dari 16 hari (skor 1) menjadi 9 hari (skor 5), yang menunjukkan bahwa pengiriman yang lebih cepat sangat berkorelasi dengan peringkat pelanggan yang lebih tinggi.\n",
    "\n",
    "    Analisis kami terhadap komentar ulasan yang hilang menunjukkan bahwa ulasan negatif (1-2 bintang) lebih cenderung berisi umpan balik tertulis, sementara peringkat yang lebih tinggi (4-5 bintang) sering kali tidak memiliki komentar teks. Hal ini menunjukkan bahwa pelanggan yang tidak puas cenderung memberikan umpan balik terperinci, sedangkan pelanggan yang puas biasanya hanya memberikan peringkat. Kondisi ini menyoroti area yang perlu ditingkatkan, khususnya dalam keandalan pengiriman dan kepuasan pelanggan\n",
    "\n",
    "    Kami menganalisis bagaimana skor ulasan produk bervariasi di berbagai kategori, dengan fokus pada bagian umpan balik negatif (skor ≤ 3). Untuk memastikan relevansi statistik, hanya kategori dengan lebih dari 100 pesanan yang disertakan. Kami memvisualisasikan distribusi peringkat untuk 10 kategori dengan kinerja terbaik dan terburuk. Area yang paling bermasalah — dalam hal ketidakpuasan pelanggan — meliputi perabot kantor, pakaian pria, dan telepon rumah. Sementara itu, pelanggan secara konsisten menilai perkakas, buku, dan koper dengan baik. Hasil ini memberikan dasar yang kuat untuk analisis lebih lanjut, terutama terkait faktor pengiriman dan pembayaran yang mungkin mendorong perbedaan kepuasan ini.\n",
    "  \n",
    "- Conclusion pertanyaan 2 : Bagaimana customer behaviour pada metode pembayaran yang dilakukan?\n",
    "\n",
    "    Singkatnya, struktur pembayaran sangat bergantung pada kredit, dengan ketergantungan kuat pada rencana cicilan untuk barang-barang kebutuhan pokok dan gaya hidup. Pedagang dan platform yang mengakomodasi — atau memberi insentif — perilaku ini berada pada posisi yang lebih baik untuk mendorong konversi dan ukuran keranjang belanja. Sebaliknya, segala batasan pada penggunaan kredit atau opsi cicilan dapat menjadi titik gesekan utama dalam proses pembelian.\n",
    "    "
   ]
  },
  {
   "cell_type": "code",
   "execution_count": 99,
   "metadata": {},
   "outputs": [],
   "source": [
    "# Export the DataFrame to a CSV file\n",
    "orders.to_csv('merged_orders.csv', index=False)"
   ]
  },
  {
   "cell_type": "code",
   "execution_count": null,
   "metadata": {},
   "outputs": [],
   "source": []
  }
 ],
 "metadata": {
  "colab": {
   "provenance": []
  },
  "kernelspec": {
   "display_name": "Python 3 (ipykernel)",
   "language": "python",
   "name": "python3"
  },
  "language_info": {
   "codemirror_mode": {
    "name": "ipython",
    "version": 3
   },
   "file_extension": ".py",
   "mimetype": "text/x-python",
   "name": "python",
   "nbconvert_exporter": "python",
   "pygments_lexer": "ipython3",
   "version": "3.11.10"
  },
  "vscode": {
   "interpreter": {
    "hash": "972b3bf27e332e87b5379f2791f6ef9dfc79c71018c370b0d7423235e20fe4d7"
   }
  }
 },
 "nbformat": 4,
 "nbformat_minor": 4
}
